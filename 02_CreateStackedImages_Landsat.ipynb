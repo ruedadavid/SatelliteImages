{
 "cells": [
  {
   "cell_type": "markdown",
   "metadata": {},
   "source": [
    "# Universidad Distrital Francisco José de Caldas\n",
    "## Class: Advanced Image Processing - Remote Sensing with Python (Basic Activities)\n",
    "### Por: David Alonso Rueda Rodríguez\n",
    "\n",
    "### 2. Crear Imágenes Stack\n",
    "\n",
    "#### Objetivo de la actividad:\n",
    "- Crear layer stacked para la imagen Landsat RGB+NIR.\n",
    "\n",
    "#### Librerías requeridas:\n",
    "- **rasterio** (librería para comparación)\n",
    "- **gdal** (librería para comparación)\n",
    "- **earthpy** (librería para comparación)\n",
    "- datetime\n",
    "\n",
    "#### Fuente de datos:\n",
    "\n",
    "https://gis.stackexchange.com/questions/223910/using-rasterio-or-gdal-to-stack-multiple-bands-without-using-subprocess-commands"
   ]
  },
  {
   "cell_type": "code",
   "execution_count": 26,
   "metadata": {},
   "outputs": [],
   "source": [
    "import rasterio as ras\n",
    "import glob\n",
    "import json\n",
    "import os\n",
    "import re\n",
    "import earthpy as et\n",
    "import earthpy.spatial as es\n",
    "from osgeo import gdal\n",
    "from datetime import datetime"
   ]
  },
  {
   "cell_type": "code",
   "execution_count": 2,
   "metadata": {},
   "outputs": [],
   "source": [
    "def time():\n",
    "    from datetime import datetime as dt\n",
    "    now = dt.now()\n",
    "    timestamp = dt.timestamp(now)\n",
    "    return timestamp"
   ]
  },
  {
   "cell_type": "markdown",
   "metadata": {},
   "source": [
    "## Preparación de datos Landsat\n",
    "\n",
    "### Determinación de Resolución espacial para bandas\n",
    "\n",
    "Es necesario hacer una identificación de la resolución espacial y con este dato hacer la concatenacióno de las imágenes (layer stack), en caso de realizar la concatenación con todas las bandas estás serán remuestreadas a la menor resolución espacial disponible."
   ]
  },
  {
   "cell_type": "markdown",
   "metadata": {},
   "source": [
    "#### Obtener datos desde directorio de trabajo"
   ]
  },
  {
   "cell_type": "code",
   "execution_count": 4,
   "metadata": {},
   "outputs": [
    {
     "data": {
      "text/plain": [
       "['src/Landsat/LC08_L1TP_009057_20190903_20190917_01_T1_B2.TIF',\n",
       " 'src/Landsat/LC08_L1TP_009057_20190903_20190917_01_T1_B3.TIF',\n",
       " 'src/Landsat/LC08_L1TP_009057_20190903_20190917_01_T1_B4.TIF',\n",
       " 'src/Landsat/LC08_L1TP_009057_20190903_20190917_01_T1_B5.TIF']"
      ]
     },
     "execution_count": 4,
     "metadata": {},
     "output_type": "execute_result"
    }
   ],
   "source": [
    "# Obtener archivos jp2 en el directorio de interés\n",
    "url_base = 'src/Landsat/'\n",
    "images = glob.glob(url_base + '*.TIF')\n",
    "images"
   ]
  },
  {
   "cell_type": "markdown",
   "metadata": {},
   "source": [
    "#### Identificación de resolución espacial para las bandas de la imagen satelital"
   ]
  },
  {
   "cell_type": "code",
   "execution_count": 5,
   "metadata": {},
   "outputs": [
    {
     "name": "stdout",
     "output_type": "stream",
     "text": [
      "Nombre Arhivo\t\t\tRes. Espacial\n",
      "LC08_L1TP_009057_20190903_20190917_01_T1_B2\t\t30\n",
      "LC08_L1TP_009057_20190903_20190917_01_T1_B3\t\t30\n",
      "LC08_L1TP_009057_20190903_20190917_01_T1_B4\t\t30\n",
      "LC08_L1TP_009057_20190903_20190917_01_T1_B5\t\t30\n"
     ]
    }
   ],
   "source": [
    "# Resolución espacial de las bandas en la imagen satelital\n",
    "bandas = []\n",
    "res = []\n",
    "print('Nombre Arhivo'+ '\\t'*3 + 'Res. Espacial')\n",
    "for image in images:\n",
    "    with ras.open(image) as src:\n",
    "        a1 = os.path.splitext(os.path.basename(image))[0]\n",
    "        print('{}\\t\\t{:.0f}' .format(a1, src.profile['transform'][0], (-1)*src.profile['transform'][4]))\n",
    "        bandas.append(a1)\n",
    "        res.append(str(src.profile['transform'][0]) + ', ' + str(src.profile['transform'][2]))"
   ]
  },
  {
   "cell_type": "markdown",
   "metadata": {},
   "source": [
    "## Layer Stack"
   ]
  },
  {
   "cell_type": "markdown",
   "metadata": {},
   "source": [
    "### Layer Stack con Earthpy\n",
    "\n",
    "Esta prueba permite identificar el tiempo empleado en la creación del layer stack con la librería **Earthpy**"
   ]
  },
  {
   "cell_type": "code",
   "execution_count": 15,
   "metadata": {},
   "outputs": [
    {
     "data": {
      "text/plain": [
       "['src/Landsat/LC08_L1TP_009057_20190903_20190917_01_T1_B2.TIF',\n",
       " 'src/Landsat/LC08_L1TP_009057_20190903_20190917_01_T1_B3.TIF',\n",
       " 'src/Landsat/LC08_L1TP_009057_20190903_20190917_01_T1_B4.TIF',\n",
       " 'src/Landsat/LC08_L1TP_009057_20190903_20190917_01_T1_B5.TIF']"
      ]
     },
     "execution_count": 15,
     "metadata": {},
     "output_type": "execute_result"
    }
   ],
   "source": [
    "images"
   ]
  },
  {
   "cell_type": "code",
   "execution_count": 43,
   "metadata": {},
   "outputs": [
    {
     "name": "stdout",
     "output_type": "stream",
     "text": [
      "Layer Stack Finalizado.\n",
      "Duración de la actividad: 287.24 segundos\n"
     ]
    }
   ],
   "source": [
    "#\n",
    "# Rutina para medicación de tiempo empleado.\n",
    "now = datetime.now()\n",
    "timestamp = datetime.timestamp(now)\n",
    "\n",
    "#\n",
    "# Inicialización de rutas de trabajo\n",
    "raster_out_path = \"src/Landsat/earthpy/Landsat_Out.tif\"\n",
    "arr, arr_meta = es.stack(images, raster_out_path)\n",
    "\n",
    "#\n",
    "# Rutina para medicación de tiempo empleado.\n",
    "now = datetime.now()\n",
    "timestamp2 = datetime.timestamp(now)\n",
    "print(\"Layer Stack Finalizado.\\nDuración de la actividad: {:.2f} segundos\" .format(timestamp2-timestamp))"
   ]
  },
  {
   "cell_type": "code",
   "execution_count": 47,
   "metadata": {},
   "outputs": [
    {
     "data": {
      "text/plain": [
       "{'driver': 'GTiff', 'dtype': 'uint16', 'nodata': None, 'width': 7591, 'height': 7751, 'count': 4, 'crs': CRS.from_epsg(32618), 'transform': Affine(30.0, 0.0, 275385.0,\n",
       "       0.0, -30.0, 595515.0), 'tiled': False, 'interleave': 'pixel'}"
      ]
     },
     "execution_count": 47,
     "metadata": {},
     "output_type": "execute_result"
    }
   ],
   "source": [
    "arr_meta"
   ]
  }
 ],
 "metadata": {
  "kernelspec": {
   "display_name": "Python 3",
   "language": "python",
   "name": "python3"
  },
  "language_info": {
   "codemirror_mode": {
    "name": "ipython",
    "version": 3
   },
   "file_extension": ".py",
   "mimetype": "text/x-python",
   "name": "python",
   "nbconvert_exporter": "python",
   "pygments_lexer": "ipython3",
   "version": "3.7.6"
  }
 },
 "nbformat": 4,
 "nbformat_minor": 4
}
