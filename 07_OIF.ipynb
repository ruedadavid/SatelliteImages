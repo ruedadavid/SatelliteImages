{
 "cells": [
  {
   "cell_type": "markdown",
   "metadata": {},
   "source": [
    "# 7. Optimum Index Factor (OIF)\n",
    "\n",
    "### Por: David Alonso Rueda Rodríguez\n",
    "\n",
    "### Objetivo:\n",
    "- Calcular el OIF de imágenes satelitales\n",
    "\n",
    "#### Esta actividad requiere la ejecución de las siguentes librerías:\n",
    "\n",
    "- gdal\n",
    "- numpy\n",
    "- glob\n",
    "\n",
    "## Fuente Original:\n"
   ]
  },
  {
   "cell_type": "code",
   "execution_count": 1,
   "metadata": {},
   "outputs": [],
   "source": [
    "import glob\n",
    "import os\n",
    "import numpy as np\n",
    "from osgeo import gdal\n",
    "import rasterio as ras"
   ]
  },
  {
   "cell_type": "code",
   "execution_count": 12,
   "metadata": {},
   "outputs": [],
   "source": [
    "urls = '../Datos/Landsat/*.TIF'\n",
    "archivos = glob.glob(urls)\n",
    "bandNumber = len(archivos)\n",
    "bandMean = np.zeros(bandNumber)"
   ]
  },
  {
   "cell_type": "code",
   "execution_count": 61,
   "metadata": {},
   "outputs": [],
   "source": [
    "src_ds = gdal.Open( archivos[0] )\n",
    "srcband = src_ds.GetRasterBand(0)"
   ]
  },
  {
   "cell_type": "code",
   "execution_count": 70,
   "metadata": {},
   "outputs": [],
   "source": [
    "dataset = gdal.Open(archivos[1])"
   ]
  },
  {
   "cell_type": "code",
   "execution_count": 65,
   "metadata": {},
   "outputs": [
    {
     "name": "stdout",
     "output_type": "stream",
     "text": [
      "1\n",
      "2\n",
      "3\n",
      "4\n",
      "5\n",
      "6\n",
      "7\n",
      "8\n",
      "9\n",
      "10\n",
      "11\n"
     ]
    }
   ],
   "source": [
    "for i in range(bandNumber):\n",
    "    dataset = gdal.Open(archivos[0])\n",
    "    band = dataset.GetRasterBand(i+1).ReadAsArray(0,0,dataset.RasterXSize, dataset.RasterYSize)\n",
    "    bandMean[i] = np.amin(band, axis=None)"
   ]
  },
  {
   "cell_type": "markdown",
   "metadata": {},
   "source": [
    "## Trabajo con archivos Sentinel"
   ]
  },
  {
   "cell_type": "code",
   "execution_count": 57,
   "metadata": {},
   "outputs": [
    {
     "name": "stdout",
     "output_type": "stream",
     "text": [
      "../Datos/Landsat/LC08_L1TP_009057_20190903_20190917_01_T1_B1.TIF9320.062899962628\n",
      "../Datos/Landsat/LC08_L1TP_009057_20190903_20190917_01_T1_B10.TIF17965.457581048904\n",
      "../Datos/Landsat/LC08_L1TP_009057_20190903_20190917_01_T1_B11.TIF16233.286641907884\n",
      "../Datos/Landsat/LC08_L1TP_009057_20190903_20190917_01_T1_B2.TIF8831.903592672614\n",
      "../Datos/Landsat/LC08_L1TP_009057_20190903_20190917_01_T1_B3.TIF8476.651491784003\n",
      "../Datos/Landsat/LC08_L1TP_009057_20190903_20190917_01_T1_B4.TIF8167.502030657447\n",
      "../Datos/Landsat/LC08_L1TP_009057_20190903_20190917_01_T1_B5.TIF14532.766840391034\n",
      "../Datos/Landsat/LC08_L1TP_009057_20190903_20190917_01_T1_B6.TIF10559.701580977453\n",
      "../Datos/Landsat/LC08_L1TP_009057_20190903_20190917_01_T1_B7.TIF7592.3817198187135\n",
      "../Datos/Landsat/LC08_L1TP_009057_20190903_20190917_01_T1_B8.TIF8324.988982111607\n",
      "../Datos/Landsat/LC08_L1TP_009057_20190903_20190917_01_T1_B9.TIF3606.194001442031\n"
     ]
    }
   ],
   "source": [
    "urls = '../Datos/Landsat/*.TIF'\n",
    "archivos = glob.glob(urls)\n",
    "bandNumber = len(archivos)\n",
    "corrMatrix = np.empty((bandNumber, bandNumber))\n",
    "for archivo in archivos:\n",
    "    with ras.open(archivo) as src:\n",
    "        print('{}{}' .format(archivo, np.mean(src.read())))"
   ]
  }
 ],
 "metadata": {
  "kernelspec": {
   "display_name": "Python 3",
   "language": "python",
   "name": "python3"
  },
  "language_info": {
   "codemirror_mode": {
    "name": "ipython",
    "version": 3
   },
   "file_extension": ".py",
   "mimetype": "text/x-python",
   "name": "python",
   "nbconvert_exporter": "python",
   "pygments_lexer": "ipython3",
   "version": "3.7.6"
  }
 },
 "nbformat": 4,
 "nbformat_minor": 4
}
