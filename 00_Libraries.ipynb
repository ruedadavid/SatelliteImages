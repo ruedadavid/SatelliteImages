{
 "cells": [
  {
   "cell_type": "markdown",
   "metadata": {},
   "source": [
    "# 0. Revisión de Librerías\n",
    "### Por: David Alonso Rueda Rodríguez\n",
    "\n",
    "#### Objetivo de la actividad:\n",
    "- Identificar versión de librerías a utilizar"
   ]
  },
  {
   "cell_type": "code",
   "execution_count": 3,
   "metadata": {},
   "outputs": [],
   "source": [
    "import pandas as pd\n",
    "import geopandas as gpd\n",
    "import rasterio as ras\n",
    "import geojson as gjson\n",
    "import osgeo.gdal as gdal\n",
    "import folium as fl\n",
    "import numpy as np\n",
    "import fiona as fi\n",
    "import skimage as ski\n",
    "# Other libraries\n",
    "import geojson_utils\n",
    "import earthpy as et\n",
    "import datetime as dt"
   ]
  },
  {
   "cell_type": "code",
   "execution_count": 4,
   "metadata": {},
   "outputs": [
    {
     "name": "stdout",
     "output_type": "stream",
     "text": [
      "pandas: 1.0.1\n",
      "geopandas: 0.7.0\n",
      "rasterio: 1.1.3\n",
      "geojson: 2.5.0\n",
      "osgeo.gdal: 3.0.4\n",
      "folium: 0.10.1\n",
      "numpy: 1.18.1\n",
      "fiona: 1.8.13\n",
      "skimage: 0.16.2\n"
     ]
    }
   ],
   "source": [
    "librerias = [pd, gpd, ras, gjson, gdal, fl, np, fi, ski]\n",
    "for libreria in librerias:\n",
    "    print('{}: {}' .format(libreria.__name__, libreria.__version__))"
   ]
  }
 ],
 "metadata": {
  "kernelspec": {
   "display_name": "Python 3",
   "language": "python",
   "name": "python3"
  },
  "language_info": {
   "codemirror_mode": {
    "name": "ipython",
    "version": 3
   },
   "file_extension": ".py",
   "mimetype": "text/x-python",
   "name": "python",
   "nbconvert_exporter": "python",
   "pygments_lexer": "ipython3",
   "version": "3.7.6"
  }
 },
 "nbformat": 4,
 "nbformat_minor": 4
}
