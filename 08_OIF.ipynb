{
 "cells": [
  {
   "cell_type": "markdown",
   "metadata": {},
   "source": [
    "# 8. Optimum Index Factor (OIF)\n",
    "\n",
    "### Por: David Alonso Rueda Rodríguez\n",
    "\n",
    "### Objetivo:\n",
    "- Calcular el OIF de imágenes satelitales\n",
    "\n",
    "#### Esta actividad requiere la ejecución de las siguentes librerías:\n",
    "\n",
    "- gdal\n",
    "- numpy\n",
    "- glob\n",
    "\n",
    "## Fuente Original:\n"
   ]
  },
  {
   "cell_type": "code",
   "execution_count": 11,
   "metadata": {},
   "outputs": [],
   "source": [
    "import glob\n",
    "import os\n",
    "import numpy as np\n",
    "from osgeo import gdal"
   ]
  },
  {
   "cell_type": "code",
   "execution_count": 12,
   "metadata": {},
   "outputs": [
    {
     "data": {
      "text/plain": [
       "['../Datos/Landsat/LC08_L1TP_009057_20190903_20190917_01_T1_B1.TIF',\n",
       " '../Datos/Landsat/LC08_L1TP_009057_20190903_20190917_01_T1_B10.TIF',\n",
       " '../Datos/Landsat/LC08_L1TP_009057_20190903_20190917_01_T1_B11.TIF',\n",
       " '../Datos/Landsat/LC08_L1TP_009057_20190903_20190917_01_T1_B2.TIF',\n",
       " '../Datos/Landsat/LC08_L1TP_009057_20190903_20190917_01_T1_B3.TIF',\n",
       " '../Datos/Landsat/LC08_L1TP_009057_20190903_20190917_01_T1_B4.TIF',\n",
       " '../Datos/Landsat/LC08_L1TP_009057_20190903_20190917_01_T1_B5.TIF',\n",
       " '../Datos/Landsat/LC08_L1TP_009057_20190903_20190917_01_T1_B6.TIF',\n",
       " '../Datos/Landsat/LC08_L1TP_009057_20190903_20190917_01_T1_B7.TIF',\n",
       " '../Datos/Landsat/LC08_L1TP_009057_20190903_20190917_01_T1_B8.TIF',\n",
       " '../Datos/Landsat/LC08_L1TP_009057_20190903_20190917_01_T1_B9.TIF']"
      ]
     },
     "execution_count": 12,
     "metadata": {},
     "output_type": "execute_result"
    }
   ],
   "source": [
    "#\n",
    "# Se obtienen el listado de bandas separadas sin cortes\n",
    "urls = '../Datos/Landsat/*.TIF'\n",
    "archivos = glob.glob(urls)\n",
    "archivos"
   ]
  },
  {
   "cell_type": "code",
   "execution_count": 13,
   "metadata": {},
   "outputs": [
    {
     "data": {
      "text/plain": [
       "'../Datos/Landsat/LC08_L1TP_009057_20190903_20190917_01_T1_B11.TIF'"
      ]
     },
     "execution_count": 13,
     "metadata": {},
     "output_type": "execute_result"
    }
   ],
   "source": [
    "archivos[2]"
   ]
  },
  {
   "cell_type": "code",
   "execution_count": 14,
   "metadata": {},
   "outputs": [
    {
     "data": {
      "text/plain": [
       "['../Datos/Landsat/LC08_L1TP_009057_20190903_20190917_01_T1_B1.TIF',\n",
       " '../Datos/Landsat/LC08_L1TP_009057_20190903_20190917_01_T1_B2.TIF',\n",
       " '../Datos/Landsat/LC08_L1TP_009057_20190903_20190917_01_T1_B3.TIF',\n",
       " '../Datos/Landsat/LC08_L1TP_009057_20190903_20190917_01_T1_B4.TIF',\n",
       " '../Datos/Landsat/LC08_L1TP_009057_20190903_20190917_01_T1_B5.TIF',\n",
       " '../Datos/Landsat/LC08_L1TP_009057_20190903_20190917_01_T1_B6.TIF',\n",
       " '../Datos/Landsat/LC08_L1TP_009057_20190903_20190917_01_T1_B7.TIF',\n",
       " '../Datos/Landsat/LC08_L1TP_009057_20190903_20190917_01_T1_B9.TIF']"
      ]
     },
     "execution_count": 14,
     "metadata": {},
     "output_type": "execute_result"
    }
   ],
   "source": [
    "#\n",
    "#    Se han encontrado problemas con la banda 8, y estos impiden un\n",
    "#  procesamiento adecuado de las estadísticas sin valores nan\n",
    "#  por esta razón se elimina del listado de bandas para procesamiento\n",
    "archivos.remove(archivos[1])\n",
    "archivos.remove(archivos[1])\n",
    "archivos.remove(archivos[7])\n",
    "archivos"
   ]
  },
  {
   "cell_type": "code",
   "execution_count": 15,
   "metadata": {},
   "outputs": [],
   "source": [
    "def read_image(input_image_url, ret_type='nan'):\n",
    "    dataset = gdal.Open(input_image_url)\n",
    "    matriz = dataset.ReadAsArray()\n",
    "    if ret_type == 'nan':\n",
    "        matriz_nan = np.where(matriz == 0, np.nan, matriz)\n",
    "        return matriz_nan\n",
    "    else:\n",
    "        return matriz"
   ]
  },
  {
   "cell_type": "code",
   "execution_count": 16,
   "metadata": {},
   "outputs": [],
   "source": [
    "bandNumber = len(archivos)\n",
    "bandArrays =[]\n",
    "for archivo in archivos:\n",
    "    band = read_image(archivo, ret_type='mat')\n",
    "    bandArrays.append(band.flatten())"
   ]
  },
  {
   "cell_type": "code",
   "execution_count": 17,
   "metadata": {},
   "outputs": [],
   "source": [
    "#\n",
    "# Declaración de matriz de correlación\n",
    "corrMatrix = np.zeros((bandNumber, bandNumber))\n",
    "stdVector = np.zeros(bandNumber)\n",
    "#\n",
    "#   Inicialización de matriz de correlación\n",
    "for i in range(bandNumber):\n",
    "    stdVector[i] = np.std(bandArrays[i])\n",
    "    for j in range(i):\n",
    "        corrMatrix[j][i] = np.corrcoef(bandArrays[j], bandArrays[i])[0][1]"
   ]
  },
  {
   "cell_type": "markdown",
   "metadata": {},
   "source": [
    "# Herramientas de GRASS\n",
    "\n",
    "Esta actividad ha requerido más tiempo del estimado, para la entrega de la materia en curso se ha utilizado la herramienta de GRASS [i.oif](https://grass.osgeo.org/grass78/manuals/i.oif.html)"
   ]
  },
  {
   "cell_type": "code",
   "execution_count": 27,
   "metadata": {},
   "outputs": [],
   "source": [
    "#\n",
    "# Se debe hacer revisión completa al algoritmo en la siguiente dirección\n",
    "url = 'https://github.com/OSGeo/grass/blob/master/scripts/i.oif/i.oif.py'"
   ]
  },
  {
   "cell_type": "markdown",
   "metadata": {},
   "source": [
    "## Resultados OIF para imagen Landsat"
   ]
  },
  {
   "cell_type": "code",
   "execution_count": 23,
   "metadata": {},
   "outputs": [],
   "source": [
    "landsat_url = 'src/Landsat/earthpy/Landsat_OIF.txt'"
   ]
  },
  {
   "cell_type": "code",
   "execution_count": 26,
   "metadata": {},
   "outputs": [
    {
     "name": "stdout",
     "output_type": "stream",
     "text": [
      "OIF imagen Landsat\n",
      "\n",
      "B04, B07, B08:  1605.3806\n",
      "B04, B05, B08:  1582.5620\n",
      "B04, B05, B07:  1571.0903\n",
      "B02, B04, B08:  1569.4531\n",
      "B02, B04, B07:  1560.1196\n",
      "B03, B04, B08:  1552.0079\n",
      "B04, B08, B11:  1550.1409\n",
      "B01, B04, B08:  1548.8345\n",
      "B03, B04, B07:  1543.4717\n",
      "B02, B07, B08:  1540.4982\n",
      "B04, B07, B11:  1540.2918\n",
      "B04, B06, B08:  1536.0255\n",
      "B01, B04, B07:  1531.9722\n",
      "B05, B07, B08:  1526.3032\n",
      "B04, B06, B07:  1526.0623\n",
      "B02, B05, B08:  1525.8970\n",
      "B02, B05, B07:  1515.9936\n",
      "B01, B07, B08:  1512.7033\n",
      "B03, B07, B08:  1511.2596\n",
      "B04, B08, B12:  1509.3486\n",
      "B03, B05, B08:  1506.4089\n",
      "B01, B05, B08:  1503.1146\n",
      "B02, B08, B11:  1499.7442\n",
      "B04, B07, B12:  1497.4104\n",
      "B03, B05, B07:  1497.3304\n",
      "B02, B07, B11:  1491.3221\n",
      "B02, B03, B08:  1490.8939\n",
      "B01, B05, B07:  1486.0857\n",
      "B01, B02, B08:  1484.0635\n",
      "B02, B03, B07:  1483.8788\n",
      "B05, B08, B11:  1483.8420\n",
      "B01, B08, B11:  1479.4168\n",
      "B02, B06, B08:  1475.9326\n",
      "B05, B07, B11:  1473.8566\n",
      "B03, B08, B11:  1472.0325\n",
      "B01, B03, B08:  1470.2831\n",
      "B01, B02, B07:  1469.1605\n",
      "B02, B06, B07:  1467.5172\n",
      "B05, B06, B08:  1466.7345\n",
      "B03, B07, B11:  1464.5282\n",
      "B01, B07, B11:  1463.7091\n",
      "B02, B08, B12:  1458.8458\n",
      "B04, B05, B06:  1457.4871\n",
      "B05, B06, B07:  1456.7453\n",
      "B01, B03, B07:  1456.2016\n",
      "B05, B08, B12:  1454.0792\n",
      "B01, B06, B08:  1450.9956\n",
      "B03, B06, B08:  1450.1656\n",
      "B07, B08, B12:  1449.2555\n",
      "B02, B07, B12:  1448.3912\n",
      "B02, B04, B06:  1442.8429\n",
      "B03, B06, B07:  1442.6143\n",
      "B04, B06, B11:  1442.3998\n",
      "B05, B07, B12:  1441.9748\n",
      "B01, B08, B12:  1436.1107\n",
      "B03, B08, B12:  1436.0129\n",
      "B01, B06, B07:  1435.8256\n",
      "B03, B04, B06:  1429.7946\n",
      "B03, B07, B12:  1426.4713\n",
      "B07, B08, B11:  1423.8823\n",
      "B01, B07, B12:  1418.5500\n",
      "B01, B04, B06:  1418.2213\n",
      "B04, B05, B11:  1410.9707\n",
      "B02, B05, B06:  1407.9189\n",
      "B02, B04, B11:  1400.7841\n",
      "B02, B06, B11:  1397.7656\n",
      "B03, B05, B06:  1392.9225\n",
      "B06, B08, B12:  1391.0128\n",
      "B03, B04, B11:  1387.7350\n",
      "B05, B06, B11:  1386.6987\n",
      "B04, B06, B12:  1385.6372\n",
      "B06, B08, B11:  1383.4983\n",
      "B01, B05, B06:  1381.6070\n",
      "B01, B04, B11:  1380.7806\n",
      "B06, B07, B12:  1380.7453\n",
      "B02, B03, B06:  1376.2856\n",
      "B06, B07, B11:  1375.7681\n",
      "B03, B06, B11:  1375.2103\n",
      "B01, B06, B11:  1373.2654\n",
      "B02, B05, B11:  1371.4886\n",
      "B02, B04, B05:  1365.0147\n",
      "B01, B02, B06:  1361.8739\n",
      "B03, B04, B05:  1359.4713\n",
      "B08, B11, B12:  1358.1752\n",
      "B03, B05, B11:  1356.4743\n",
      "B06, B07, B08:  1356.0086\n",
      "B01, B03, B06:  1351.8996\n",
      "B01, B05, B11:  1349.6373\n",
      "B07, B11, B12:  1348.7678\n",
      "B02, B03, B11:  1344.1626\n",
      "B01, B04, B05:  1343.5320\n",
      "B02, B06, B12:  1341.2452\n",
      "B05, B06, B12:  1340.5666\n",
      "B01, B02, B11:  1334.3195\n",
      "B02, B03, B04:  1324.1870\n",
      "B01, B03, B11:  1324.0672\n",
      "B03, B06, B12:  1323.4454\n",
      "B04, B05, B12:  1321.7340\n",
      "B01, B06, B12:  1314.9023\n",
      "B02, B03, B05:  1312.7707\n",
      "B01, B02, B04:  1305.5395\n",
      "B01, B03, B04:  1304.4884\n",
      "B02, B04, B12:  1302.1433\n",
      "B04, B11, B12:  1295.6764\n",
      "B01, B02, B05:  1294.4849\n",
      "B03, B04, B12:  1293.9555\n",
      "B01, B03, B05:  1291.3219\n",
      "B02, B05, B12:  1283.0433\n",
      "B01, B04, B12:  1280.6220\n",
      "B03, B05, B12:  1272.8359\n",
      "B06, B11, B12:  1268.2015\n",
      "B02, B11, B12:  1261.4819\n",
      "B01, B05, B12:  1259.8012\n",
      "B05, B11, B12:  1258.5221\n",
      "B01, B02, B03:  1252.5508\n",
      "B02, B03, B12:  1251.5950\n",
      "B03, B11, B12:  1244.8714\n",
      "B01, B11, B12:  1239.8785\n",
      "B01, B02, B12:  1235.7436\n",
      "B01, B03, B12:  1229.9898\n",
      "\n"
     ]
    }
   ],
   "source": [
    "with open(landsat_url) as src:\n",
    "    print('{}' .format('OIF imagen Landsat\\n'))\n",
    "    print(src.read())"
   ]
  },
  {
   "cell_type": "markdown",
   "metadata": {},
   "source": [
    "## Resultados OIF para imagen Sentinel"
   ]
  },
  {
   "cell_type": "code",
   "execution_count": 25,
   "metadata": {},
   "outputs": [
    {
     "name": "stdout",
     "output_type": "stream",
     "text": [
      "OIF imagen Sentinel\n",
      "\n",
      "Banda04, Banda05, Banda06:  9976.2033\n",
      "Banda02, Banda05, Banda06:  9927.3550\n",
      "Banda05, Banda06, Banda08:  9887.2179\n",
      "Banda02, Banda04, Banda05:  9861.0661\n",
      "Banda01, Banda05, Banda06:  9856.5822\n",
      "Banda01, Banda04, Banda05:  9849.1146\n",
      "Banda04, Banda05, Banda08:  9810.9165\n",
      "Banda03, Banda05, Banda06:  9794.6021\n",
      "Banda01, Banda02, Banda05:  9788.4363\n",
      "Banda02, Banda05, Banda08:  9783.7301\n",
      "Banda01, Banda05, Banda08:  9766.8087\n",
      "Banda03, Banda04, Banda05:  9744.5752\n",
      "Banda02, Banda03, Banda05:  9710.0478\n",
      "Banda01, Banda03, Banda05:  9688.2610\n",
      "Banda03, Banda05, Banda08:  9671.5126\n",
      "Banda04, Banda05, Banda07:  9291.8322\n",
      "Banda02, Banda05, Banda07:  9254.9498\n",
      "Banda05, Banda07, Banda08:  9210.3933\n",
      "Banda01, Banda05, Banda07:  9195.7182\n",
      "Banda03, Banda05, Banda07:  9127.5323\n",
      "Banda04, Banda05, Banda09:  8950.4461\n",
      "Banda01, Banda02, Banda06:  8915.8612\n",
      "Banda01, Banda04, Banda06:  8914.8575\n",
      "Banda02, Banda04, Banda06:  8913.8782\n",
      "Banda02, Banda06, Banda08:  8862.8845\n",
      "Banda01, Banda06, Banda08:  8859.1432\n",
      "Banda04, Banda06, Banda08:  8830.8570\n",
      "Banda02, Banda03, Banda06:  8810.1985\n",
      "Banda05, Banda08, Banda09:  8802.1753\n",
      "Banda01, Banda03, Banda06:  8801.7948\n",
      "Banda03, Banda04, Banda06:  8785.5007\n",
      "Banda02, Banda05, Banda09:  8770.3336\n",
      "Banda03, Banda06, Banda08:  8738.1987\n",
      "Banda05, Banda06, Banda07:  8688.1310\n",
      "Banda03, Banda05, Banda09:  8666.2295\n",
      "Banda01, Banda05, Banda09:  8628.6552\n",
      "Banda01, Banda02, Banda04:  8412.5395\n",
      "Banda01, Banda02, Banda08:  8368.7518\n",
      "Banda01, Banda04, Banda08:  8349.9954\n",
      "Banda01, Banda02, Banda03:  8330.2626\n",
      "Banda01, Banda03, Banda04:  8317.8668\n",
      "Banda02, Banda04, Banda08:  8306.5633\n",
      "Banda02, Banda03, Banda04:  8278.8299\n",
      "Banda01, Banda03, Banda08:  8277.1350\n",
      "Banda02, Banda03, Banda08:  8242.3897\n",
      "Banda03, Banda04, Banda08:  8203.2345\n",
      "Banda02, Banda04, Banda09:  8153.6396\n",
      "Banda01, Banda02, Banda07:  8148.9477\n",
      "Banda01, Banda04, Banda07:  8139.1710\n",
      "Banda04, Banda08, Banda09:  8135.0042\n",
      "Banda02, Banda04, Banda07:  8131.3092\n",
      "Banda01, Banda07, Banda08:  8089.2718\n",
      "Banda02, Banda07, Banda08:  8085.7463\n",
      "Banda01, Banda04, Banda09:  8082.3614\n",
      "Banda02, Banda06, Banda07:  8071.1745\n",
      "Banda04, Banda06, Banda07:  8048.9551\n",
      "Banda04, Banda07, Banda08:  8047.7330\n",
      "Banda02, Banda08, Banda09:  8044.0885\n",
      "Banda03, Banda04, Banda09:  8043.1395\n",
      "Banda02, Banda03, Banda07:  8040.9439\n",
      "Banda01, Banda03, Banda07:  8040.1566\n",
      "Banda01, Banda06, Banda07:  8031.8605\n",
      "Banda03, Banda04, Banda07:  8009.6351\n",
      "Banda06, Banda07, Banda08:  7995.7959\n",
      "Banda05, Banda06, Banda09:  7973.8127\n",
      "Banda01, Banda08, Banda09:  7969.5421\n",
      "Banda03, Banda07, Banda08:  7967.3477\n",
      "Banda01, Banda02, Banda09:  7962.3317\n",
      "Banda02, Banda03, Banda09:  7946.8524\n",
      "Banda03, Banda08, Banda09:  7937.9387\n",
      "Banda03, Banda06, Banda07:  7937.7522\n",
      "Banda01, Banda03, Banda09:  7869.1557\n",
      "Banda04, Banda06, Banda09:  7836.3684\n",
      "Banda02, Banda06, Banda09:  7735.6435\n",
      "Banda06, Banda08, Banda09:  7723.2203\n",
      "Banda01, Banda06, Banda09:  7621.0501\n",
      "Banda03, Banda06, Banda09:  7616.3310\n",
      "Banda05, Banda07, Banda09:  7329.0338\n",
      "Banda04, Banda07, Banda09:  7002.6401\n",
      "Banda02, Banda07, Banda09:  6922.4312\n",
      "Banda07, Banda08, Banda09:  6900.2769\n",
      "Banda01, Banda07, Banda09:  6826.5480\n",
      "Banda03, Banda07, Banda09:  6806.4986\n",
      "Banda06, Banda07, Banda09:  6130.2327\n",
      "\n"
     ]
    }
   ],
   "source": [
    "sentinel_url = 'src/Sentinel/earthpy/Sentinel_OIF.txt'\n",
    "\n",
    "with open(sentinel_url) as src:\n",
    "    print('{}' .format('OIF imagen Sentinel\\n'))\n",
    "    print(src.read())"
   ]
  },
  {
   "cell_type": "markdown",
   "metadata": {},
   "source": [
    "## Demostración Coeficiente de Correlación Paramétrico y no Paramétrico"
   ]
  },
  {
   "cell_type": "code",
   "execution_count": 8,
   "metadata": {},
   "outputs": [
    {
     "data": {
      "text/plain": [
       "array([1, 2, 3, 4, 5, 6])"
      ]
     },
     "execution_count": 8,
     "metadata": {},
     "output_type": "execute_result"
    }
   ],
   "source": [
    "a = np.array([[1, 2, 3], [4, 5, 6]])\n",
    "af = a.flatten()\n",
    "af"
   ]
  },
  {
   "cell_type": "code",
   "execution_count": 16,
   "metadata": {},
   "outputs": [
    {
     "data": {
      "text/plain": [
       "array([ 3,  4,  6,  7,  9, 11])"
      ]
     },
     "execution_count": 16,
     "metadata": {},
     "output_type": "execute_result"
    }
   ],
   "source": [
    "b = np.array([[3, 4, 6], [7, 9,11]])\n",
    "bf = b.flatten()\n",
    "bf"
   ]
  },
  {
   "cell_type": "code",
   "execution_count": 17,
   "metadata": {},
   "outputs": [
    {
     "data": {
      "image/png": "[encoded data removed]",
      "text/plain": [
       "<Figure size 432x288 with 1 Axes>"
      ]
     },
     "metadata": {
      "needs_background": "light"
     },
     "output_type": "display_data"
    }
   ],
   "source": [
    "import matplotlib.pyplot as plt\n",
    "plt.plot(af,bf, label='Seguimiento')\n",
    "plt.scatter(af,bf, c='red', label='Relación')\n",
    "plt.title('Relación entre variables')\n",
    "plt.xlabel('Variable independiente')\n",
    "plt.ylabel('Variable dependiente')\n",
    "plt.legend()\n",
    "plt.show()"
   ]
  },
  {
   "cell_type": "code",
   "execution_count": 18,
   "metadata": {},
   "outputs": [
    {
     "name": "stdout",
     "output_type": "stream",
     "text": [
      "0.9818894863128662\n",
      "0.9818894863128662\n",
      "Sample looks Gaussian (fail to reject H0)\n"
     ]
    }
   ],
   "source": [
    "from scipy.stats import shapiro\n",
    "stat, p = shapiro(a)\n",
    "stat_f, p_f = shapiro(af)\n",
    "print(stat)\n",
    "print(stat_f)\n",
    "alpha = 0.05\n",
    "if p > alpha:\n",
    "    print('Sample looks Gaussian (fail to reject H0)')\n",
    "else:\n",
    "    print('Sample does not look Gaussian (reject H0)')"
   ]
  },
  {
   "cell_type": "code",
   "execution_count": 19,
   "metadata": {},
   "outputs": [
    {
     "name": "stdout",
     "output_type": "stream",
     "text": [
      "0.971271812915802\n",
      "0.971271812915802\n",
      "Sample looks Gaussian (fail to reject H0)\n"
     ]
    }
   ],
   "source": [
    "from scipy.stats import shapiro\n",
    "stat, p = shapiro(b)\n",
    "stat_f, p_f = shapiro(bf)\n",
    "print(stat)\n",
    "print(stat_f)\n",
    "alpha = 0.05\n",
    "if p > alpha:\n",
    "    print('Sample looks Gaussian (fail to reject H0)')\n",
    "else:\n",
    "    print('Sample does not look Gaussian (reject H0)')"
   ]
  },
  {
   "cell_type": "code",
   "execution_count": 20,
   "metadata": {},
   "outputs": [
    {
     "name": "stdout",
     "output_type": "stream",
     "text": [
      "0.994100\n",
      "With pearson method.\n",
      "Sample does not look independent (reject H0)\n",
      "1.000000\n",
      "With spearman method.\n",
      "Sample does not look independet (reject H0)\n"
     ]
    }
   ],
   "source": [
    "from scipy.stats import pearsonr\n",
    "from scipy.stats import spearmanr\n",
    "alpha = 0.05\n",
    "stat, p = pearsonr(af,bf)\n",
    "print('{:.6f}' .format(stat))\n",
    "if p > alpha:\n",
    "    print('With pearson method.\\nSample looks independent (fail to reject H0)')\n",
    "else:\n",
    "    print('With pearson method.\\nSample does not look independent (reject H0)')\n",
    "stat, p = spearmanr(af,bf)\n",
    "print('{:.6f}' .format(stat))\n",
    "if p > alpha:\n",
    "    print('With spearman method.\\nSample looks independent (fail to reject H0)')\n",
    "else:\n",
    "    print('With spearman method.\\nSample does not look independet (reject H0)')"
   ]
  },
  {
   "cell_type": "markdown",
   "metadata": {},
   "source": [
    "## Otro Arreglo"
   ]
  },
  {
   "cell_type": "code",
   "execution_count": 91,
   "metadata": {},
   "outputs": [],
   "source": [
    "a = np.array([[11, 12, 13, 14, 15],\n",
    "              [21, 22, 23, 24, 25],\n",
    "              [31, 32, 33, 34, 35],\n",
    "              [41, 42, 43, 44, 45],\n",
    "              [51, 52, 53, 54, 55]])"
   ]
  },
  {
   "cell_type": "code",
   "execution_count": 102,
   "metadata": {},
   "outputs": [
    {
     "name": "stdout",
     "output_type": "stream",
     "text": [
      "11 12 13\n",
      "11 12 14\n",
      "11 12 15\n"
     ]
    }
   ],
   "source": [
    "print(a[0,0] , a[0,1] , a[0,2])\n",
    "print(a[0,0] , a[0,1] , a[0,3])\n",
    "print(a[0,0] , a[0,1] , a[0,4])"
   ]
  },
  {
   "cell_type": "code",
   "execution_count": 109,
   "metadata": {},
   "outputs": [
    {
     "name": "stdout",
     "output_type": "stream",
     "text": [
      "11\n",
      "12\n",
      "13\n",
      "14\n",
      "15\n",
      "21\n",
      "22\n",
      "23\n",
      "24\n",
      "25\n",
      "31\n",
      "32\n",
      "33\n",
      "34\n",
      "35\n",
      "41\n",
      "42\n",
      "43\n",
      "44\n",
      "45\n",
      "51\n",
      "52\n",
      "53\n",
      "54\n",
      "55\n"
     ]
    }
   ],
   "source": [
    "for i in range(len(a)):\n",
    "    for j in range(len(a)):\n",
    "        print(a[i, j])"
   ]
  },
  {
   "cell_type": "code",
   "execution_count": 74,
   "metadata": {},
   "outputs": [
    {
     "data": {
      "text/plain": [
       "array([[2],\n",
       "       [3],\n",
       "       [4]])"
      ]
     },
     "execution_count": 74,
     "metadata": {},
     "output_type": "execute_result"
    }
   ],
   "source": [
    "B = np.array([[2,3,4]]).transpose()\n",
    "B"
   ]
  },
  {
   "cell_type": "code",
   "execution_count": 75,
   "metadata": {},
   "outputs": [
    {
     "data": {
      "text/plain": [
       "array([[20]])"
      ]
     },
     "execution_count": 75,
     "metadata": {},
     "output_type": "execute_result"
    }
   ],
   "source": [
    "A.dot(B)"
   ]
  },
  {
   "cell_type": "code",
   "execution_count": null,
   "metadata": {},
   "outputs": [],
   "source": []
  }
 ],
 "metadata": {
  "kernelspec": {
   "display_name": "Python 3",
   "language": "python",
   "name": "python3"
  },
  "language_info": {
   "codemirror_mode": {
    "name": "ipython",
    "version": 3
   },
   "file_extension": ".py",
   "mimetype": "text/x-python",
   "name": "python",
   "nbconvert_exporter": "python",
   "pygments_lexer": "ipython3",
   "version": "3.7.6"
  }
 },
 "nbformat": 4,
 "nbformat_minor": 4
}
