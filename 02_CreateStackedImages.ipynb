{
 "cells": [
  {
   "cell_type": "markdown",
   "metadata": {},
   "source": [
    "# Universidad Distrital Francisco José de Caldas\n",
    "## Class: Advanced Image Processing - Remote Sensing with Python (Basic Activities)\n",
    "### Por: David Alonso Rueda Rodríguez\n",
    "\n",
    "### 2. Crear Imágenes Stack\n",
    "\n",
    "#### Objetivo de la actividad:\n",
    "- Crear layer stacked para la imagen Sentinel RGB+NIR.\n",
    "\n",
    "#### Librerías requeridas:\n",
    "- **rasterio** (librería para comparación)\n",
    "- **gdal** (librería para comparación)\n",
    "- **earthpy** (librería para comparación)\n",
    "- datetime\n",
    "\n",
    "#### Fuente de datos:\n",
    "\n",
    "https://gis.stackexchange.com/questions/223910/using-rasterio-or-gdal-to-stack-multiple-bands-without-using-subprocess-commands"
   ]
  },
  {
   "cell_type": "code",
   "execution_count": 34,
   "metadata": {},
   "outputs": [],
   "source": [
    "import rasterio as ras\n",
    "import glob\n",
    "import json\n",
    "import os\n",
    "import re\n",
    "import earthpy as et\n",
    "import earthpy.spatial as es\n",
    "from osgeo import gdal\n",
    "from datetime import datetime"
   ]
  },
  {
   "cell_type": "code",
   "execution_count": 5,
   "metadata": {},
   "outputs": [],
   "source": [
    "def time():\n",
    "    from datetime import datetime as dt\n",
    "    now = dt.now()\n",
    "    timestamp = dt.timestamp(now)\n",
    "    return timestamp"
   ]
  },
  {
   "cell_type": "markdown",
   "metadata": {},
   "source": [
    "## Preparación de datos de prueba\n",
    "\n",
    "### Determinación de Resolución espacial para bandas\n",
    "\n",
    "Es necesario hacer una identificación de la resolución espacial y con este dato hacer la concatenacióno de las imágenes (layer stack), en caso de realizar la concatenación con todas las bandas estás serán remuestreadas a la menor resolución espacial disponible."
   ]
  },
  {
   "cell_type": "markdown",
   "metadata": {},
   "source": [
    "### Imágenes Sentinel\n",
    "#### Obtener datos desde directorio de trabajo"
   ]
  },
  {
   "cell_type": "code",
   "execution_count": 27,
   "metadata": {},
   "outputs": [
    {
     "data": {
      "text/plain": [
       "['src/Sentinel/T18NVL_20200104T152639_B01.jp2',\n",
       " 'src/Sentinel/T18NVL_20200104T152639_B02.jp2',\n",
       " 'src/Sentinel/T18NVL_20200104T152639_B03.jp2',\n",
       " 'src/Sentinel/T18NVL_20200104T152639_B04.jp2',\n",
       " 'src/Sentinel/T18NVL_20200104T152639_B05.jp2',\n",
       " 'src/Sentinel/T18NVL_20200104T152639_B06.jp2',\n",
       " 'src/Sentinel/T18NVL_20200104T152639_B07.jp2',\n",
       " 'src/Sentinel/T18NVL_20200104T152639_B08.jp2',\n",
       " 'src/Sentinel/T18NVL_20200104T152639_B08A.jp2',\n",
       " 'src/Sentinel/T18NVL_20200104T152639_B09.jp2',\n",
       " 'src/Sentinel/T18NVL_20200104T152639_B10.jp2',\n",
       " 'src/Sentinel/T18NVL_20200104T152639_B11.jp2']"
      ]
     },
     "execution_count": 27,
     "metadata": {},
     "output_type": "execute_result"
    }
   ],
   "source": [
    "# Obtener archivos jp2 en el directorio de interés\n",
    "url_base = 'src/Sentinel/'\n",
    "images = glob.glob(url_base + '*.jp2')\n",
    "images"
   ]
  },
  {
   "cell_type": "markdown",
   "metadata": {},
   "source": [
    "#### Identificación de resolución espacial para las bandas de la imagen satelital"
   ]
  },
  {
   "cell_type": "code",
   "execution_count": 26,
   "metadata": {},
   "outputs": [],
   "source": [
    "images[0]\n",
    "a = ras.open(images[0])"
   ]
  },
  {
   "cell_type": "code",
   "execution_count": 30,
   "metadata": {},
   "outputs": [
    {
     "name": "stdout",
     "output_type": "stream",
     "text": [
      "Nombre Arhivo\t\t\tRes. Espacial\n",
      "LC08_L1TP_009057_20190903_20190917_01_T1_B2\t\t30\n",
      "LC08_L1TP_009057_20190903_20190917_01_T1_B3\t\t30\n",
      "LC08_L1TP_009057_20190903_20190917_01_T1_B4\t\t30\n",
      "LC08_L1TP_009057_20190903_20190917_01_T1_B5\t\t30\n"
     ]
    }
   ],
   "source": [
    "# Resolución espacial de las bandas en la imagen satelital\n",
    "bandas = []\n",
    "res = []\n",
    "print('Nombre Arhivo'+ '\\t'*3 + 'Res. Espacial')\n",
    "for image in images:\n",
    "    with ras.open(image) as src:\n",
    "        a1 = os.path.splitext(os.path.basename(image))[0]\n",
    "        print('{}\\t\\t{:.0f}' .format(a1, src.profile['transform'][0], (-1)*src.profile['transform'][4]))\n",
    "        bandas.append(a1)\n",
    "        res.append(str(src.profile['transform'][0]) + ', ' + str(src.profile['transform'][2]))"
   ]
  },
  {
   "cell_type": "markdown",
   "metadata": {},
   "source": [
    "### Resumen de datos para trabajarse\n",
    "\n",
    "#### - 10 metros resolución espacial\n",
    "\n",
    "- T18NVL_20200104T152639_B02: 10\n",
    "- T18NVL_20200104T152639_B03: 10\n",
    "- T18NVL_20200104T152639_B04: 10\n",
    "- T18NVL_20200104T152639_B08: 10\n",
    "\n",
    "#### - 20 metros resolución espacial\n",
    "\n",
    "- T18NVL_20200104T152639_B05: 20\n",
    "- T18NVL_20200104T152639_B06: 20\n",
    "- T18NVL_20200104T152639_B07: 20\n",
    "- T18NVL_20200104T152639_B08A: 20\n",
    "- T18NVL_20200104T152639_B11: 20\n",
    "- T18NVL_20200104T152639_B12: 20\n",
    "\n",
    "#### - 60 metros resolución espacial\n",
    "\n",
    "- T18NVL_20200104T152639_B01: 60\n",
    "- T18NVL_20200104T152639_B09: 60\n",
    "- T18NVL_20200104T152639_B10: 60"
   ]
  },
  {
   "cell_type": "code",
   "execution_count": 16,
   "metadata": {},
   "outputs": [],
   "source": [
    "# Discriminación de datos por resolución espacial\n",
    "sentinel_10 = [\n",
    "    'T18NVL_20200104T152639_B02.jp2', 'T18NVL_20200104T152639_B03.jp2',\n",
    "    'T18NVL_20200104T152639_B04.jp2', 'T18NVL_20200104T152639_B08.jp2'\n",
    "]\n",
    "sentinel_20 = [\n",
    "    'T18NVL_20200104T152639_B05.jp2', 'T18NVL_20200104T152639_B06.jp2', \n",
    "    'T18NVL_20200104T152639_B07.jp2', 'T18NVL_20200104T152639_B08A.jp2', \n",
    "    'T18NVL_20200104T152639_B11.jp2', 'T18NVL_20200104T152639_B12.jp2'\n",
    "]\n",
    "sentinel_60 = [\n",
    "    'T18NVL_20200104T152639_B01.jp2', 'T18NVL_20200104T152639_B09.jp2',\n",
    "    'T18NVL_20200104T152639_B10.jp2'\n",
    "]"
   ]
  },
  {
   "cell_type": "code",
   "execution_count": 17,
   "metadata": {},
   "outputs": [],
   "source": [
    "# Agregación de url_base con listado de archivos\n",
    "sentinel_10m = []\n",
    "sentinel_20m = []\n",
    "for i in sentinel_10:\n",
    "    sentinel_10m.append(url_base + i)\n",
    "for i in sentinel_20:\n",
    "    sentinel_20m.append(url_base + i)  "
   ]
  },
  {
   "cell_type": "markdown",
   "metadata": {},
   "source": [
    "### Imágenes Sentinel\n",
    "#### Obtener datos desde directorio de trabajo"
   ]
  },
  {
   "cell_type": "code",
   "execution_count": 35,
   "metadata": {},
   "outputs": [
    {
     "data": {
      "text/plain": [
       "['src/Sentinel/T18NVL_20200104T152639_B01.jp2',\n",
       " 'src/Sentinel/T18NVL_20200104T152639_B02.jp2',\n",
       " 'src/Sentinel/T18NVL_20200104T152639_B03.jp2',\n",
       " 'src/Sentinel/T18NVL_20200104T152639_B04.jp2',\n",
       " 'src/Sentinel/T18NVL_20200104T152639_B05.jp2',\n",
       " 'src/Sentinel/T18NVL_20200104T152639_B06.jp2',\n",
       " 'src/Sentinel/T18NVL_20200104T152639_B07.jp2',\n",
       " 'src/Sentinel/T18NVL_20200104T152639_B08.jp2',\n",
       " 'src/Sentinel/T18NVL_20200104T152639_B08A.jp2',\n",
       " 'src/Sentinel/T18NVL_20200104T152639_B09.jp2',\n",
       " 'src/Sentinel/T18NVL_20200104T152639_B10.jp2',\n",
       " 'src/Sentinel/T18NVL_20200104T152639_B11.jp2']"
      ]
     },
     "execution_count": 35,
     "metadata": {},
     "output_type": "execute_result"
    }
   ],
   "source": [
    "# Obtener archivos jp2 en el directorio de interés\n",
    "url_base = 'src/Sentinel/'\n",
    "images = glob.glob(url_base + '*.jp2')\n",
    "images"
   ]
  },
  {
   "cell_type": "code",
   "execution_count": 36,
   "metadata": {},
   "outputs": [
    {
     "name": "stdout",
     "output_type": "stream",
     "text": [
      "Nombre Arhivo\t\t\tRes. Espacial\n"
     ]
    },
    {
     "ename": "RasterioIOError",
     "evalue": "../../../../../../Datos/Imagenes/Sentinel/T18NVL_20200104T152639_B01.jp2: No such file or directory",
     "output_type": "error",
     "traceback": [
      "\u001b[0;31m---------------------------------------------------------------------------\u001b[0m",
      "\u001b[0;31mCPLE_OpenFailedError\u001b[0m                      Traceback (most recent call last)",
      "\u001b[0;32mrasterio/_base.pyx\u001b[0m in \u001b[0;36mrasterio._base.DatasetBase.__init__\u001b[0;34m()\u001b[0m\n",
      "\u001b[0;32mrasterio/_shim.pyx\u001b[0m in \u001b[0;36mrasterio._shim.open_dataset\u001b[0;34m()\u001b[0m\n",
      "\u001b[0;32mrasterio/_err.pyx\u001b[0m in \u001b[0;36mrasterio._err.exc_wrap_pointer\u001b[0;34m()\u001b[0m\n",
      "\u001b[0;31mCPLE_OpenFailedError\u001b[0m: ../../../../../../Datos/Imagenes/Sentinel/T18NVL_20200104T152639_B01.jp2: No such file or directory",
      "\nDuring handling of the above exception, another exception occurred:\n",
      "\u001b[0;31mRasterioIOError\u001b[0m                           Traceback (most recent call last)",
      "\u001b[0;32m<ipython-input-36-06e3124805bd>\u001b[0m in \u001b[0;36m<module>\u001b[0;34m\u001b[0m\n\u001b[1;32m      4\u001b[0m \u001b[0mprint\u001b[0m\u001b[0;34m(\u001b[0m\u001b[0;34m'Nombre Arhivo'\u001b[0m\u001b[0;34m+\u001b[0m \u001b[0;34m'\\t'\u001b[0m\u001b[0;34m*\u001b[0m\u001b[0;36m3\u001b[0m \u001b[0;34m+\u001b[0m \u001b[0;34m'Res. Espacial'\u001b[0m\u001b[0;34m)\u001b[0m\u001b[0;34m\u001b[0m\u001b[0;34m\u001b[0m\u001b[0m\n\u001b[1;32m      5\u001b[0m \u001b[0;32mfor\u001b[0m \u001b[0mimage\u001b[0m \u001b[0;32min\u001b[0m \u001b[0mimages\u001b[0m\u001b[0;34m:\u001b[0m\u001b[0;34m\u001b[0m\u001b[0;34m\u001b[0m\u001b[0m\n\u001b[0;32m----> 6\u001b[0;31m     \u001b[0;32mwith\u001b[0m \u001b[0mras\u001b[0m\u001b[0;34m.\u001b[0m\u001b[0mopen\u001b[0m\u001b[0;34m(\u001b[0m\u001b[0mimage\u001b[0m\u001b[0;34m)\u001b[0m \u001b[0;32mas\u001b[0m \u001b[0msrc\u001b[0m\u001b[0;34m:\u001b[0m\u001b[0;34m\u001b[0m\u001b[0;34m\u001b[0m\u001b[0m\n\u001b[0m\u001b[1;32m      7\u001b[0m         \u001b[0ma1\u001b[0m \u001b[0;34m=\u001b[0m \u001b[0mos\u001b[0m\u001b[0;34m.\u001b[0m\u001b[0mpath\u001b[0m\u001b[0;34m.\u001b[0m\u001b[0msplitext\u001b[0m\u001b[0;34m(\u001b[0m\u001b[0mos\u001b[0m\u001b[0;34m.\u001b[0m\u001b[0mpath\u001b[0m\u001b[0;34m.\u001b[0m\u001b[0mbasename\u001b[0m\u001b[0;34m(\u001b[0m\u001b[0mimage\u001b[0m\u001b[0;34m)\u001b[0m\u001b[0;34m)\u001b[0m\u001b[0;34m[\u001b[0m\u001b[0;36m0\u001b[0m\u001b[0;34m]\u001b[0m\u001b[0;34m\u001b[0m\u001b[0;34m\u001b[0m\u001b[0m\n\u001b[1;32m      8\u001b[0m         \u001b[0mprint\u001b[0m\u001b[0;34m(\u001b[0m\u001b[0;34m'{}\\t\\t{:.0f}'\u001b[0m \u001b[0;34m.\u001b[0m\u001b[0mformat\u001b[0m\u001b[0;34m(\u001b[0m\u001b[0ma1\u001b[0m\u001b[0;34m,\u001b[0m \u001b[0msrc\u001b[0m\u001b[0;34m.\u001b[0m\u001b[0mprofile\u001b[0m\u001b[0;34m[\u001b[0m\u001b[0;34m'transform'\u001b[0m\u001b[0;34m]\u001b[0m\u001b[0;34m[\u001b[0m\u001b[0;36m0\u001b[0m\u001b[0;34m]\u001b[0m\u001b[0;34m,\u001b[0m \u001b[0;34m(\u001b[0m\u001b[0;34m-\u001b[0m\u001b[0;36m1\u001b[0m\u001b[0;34m)\u001b[0m\u001b[0;34m*\u001b[0m\u001b[0msrc\u001b[0m\u001b[0;34m.\u001b[0m\u001b[0mprofile\u001b[0m\u001b[0;34m[\u001b[0m\u001b[0;34m'transform'\u001b[0m\u001b[0;34m]\u001b[0m\u001b[0;34m[\u001b[0m\u001b[0;36m4\u001b[0m\u001b[0;34m]\u001b[0m\u001b[0;34m)\u001b[0m\u001b[0;34m)\u001b[0m\u001b[0;34m\u001b[0m\u001b[0;34m\u001b[0m\u001b[0m\n",
      "\u001b[0;32m/opt/conda/lib/python3.7/site-packages/rasterio/env.py\u001b[0m in \u001b[0;36mwrapper\u001b[0;34m(*args, **kwds)\u001b[0m\n\u001b[1;32m    432\u001b[0m \u001b[0;34m\u001b[0m\u001b[0m\n\u001b[1;32m    433\u001b[0m         \u001b[0;32mwith\u001b[0m \u001b[0menv_ctor\u001b[0m\u001b[0;34m(\u001b[0m\u001b[0msession\u001b[0m\u001b[0;34m=\u001b[0m\u001b[0msession\u001b[0m\u001b[0;34m)\u001b[0m\u001b[0;34m:\u001b[0m\u001b[0;34m\u001b[0m\u001b[0;34m\u001b[0m\u001b[0m\n\u001b[0;32m--> 434\u001b[0;31m             \u001b[0;32mreturn\u001b[0m \u001b[0mf\u001b[0m\u001b[0;34m(\u001b[0m\u001b[0;34m*\u001b[0m\u001b[0margs\u001b[0m\u001b[0;34m,\u001b[0m \u001b[0;34m**\u001b[0m\u001b[0mkwds\u001b[0m\u001b[0;34m)\u001b[0m\u001b[0;34m\u001b[0m\u001b[0;34m\u001b[0m\u001b[0m\n\u001b[0m\u001b[1;32m    435\u001b[0m \u001b[0;34m\u001b[0m\u001b[0m\n\u001b[1;32m    436\u001b[0m     \u001b[0;32mreturn\u001b[0m \u001b[0mwrapper\u001b[0m\u001b[0;34m\u001b[0m\u001b[0;34m\u001b[0m\u001b[0m\n",
      "\u001b[0;32m/opt/conda/lib/python3.7/site-packages/rasterio/__init__.py\u001b[0m in \u001b[0;36mopen\u001b[0;34m(fp, mode, driver, width, height, count, crs, transform, dtype, nodata, sharing, **kwargs)\u001b[0m\n\u001b[1;32m    217\u001b[0m         \u001b[0;31m# None.\u001b[0m\u001b[0;34m\u001b[0m\u001b[0;34m\u001b[0m\u001b[0;34m\u001b[0m\u001b[0m\n\u001b[1;32m    218\u001b[0m         \u001b[0;32mif\u001b[0m \u001b[0mmode\u001b[0m \u001b[0;34m==\u001b[0m \u001b[0;34m'r'\u001b[0m\u001b[0;34m:\u001b[0m\u001b[0;34m\u001b[0m\u001b[0;34m\u001b[0m\u001b[0m\n\u001b[0;32m--> 219\u001b[0;31m             \u001b[0ms\u001b[0m \u001b[0;34m=\u001b[0m \u001b[0mDatasetReader\u001b[0m\u001b[0;34m(\u001b[0m\u001b[0mpath\u001b[0m\u001b[0;34m,\u001b[0m \u001b[0mdriver\u001b[0m\u001b[0;34m=\u001b[0m\u001b[0mdriver\u001b[0m\u001b[0;34m,\u001b[0m \u001b[0msharing\u001b[0m\u001b[0;34m=\u001b[0m\u001b[0msharing\u001b[0m\u001b[0;34m,\u001b[0m \u001b[0;34m**\u001b[0m\u001b[0mkwargs\u001b[0m\u001b[0;34m)\u001b[0m\u001b[0;34m\u001b[0m\u001b[0;34m\u001b[0m\u001b[0m\n\u001b[0m\u001b[1;32m    220\u001b[0m         \u001b[0;32melif\u001b[0m \u001b[0mmode\u001b[0m \u001b[0;34m==\u001b[0m \u001b[0;34m'r+'\u001b[0m\u001b[0;34m:\u001b[0m\u001b[0;34m\u001b[0m\u001b[0;34m\u001b[0m\u001b[0m\n\u001b[1;32m    221\u001b[0m             \u001b[0ms\u001b[0m \u001b[0;34m=\u001b[0m \u001b[0mget_writer_for_path\u001b[0m\u001b[0;34m(\u001b[0m\u001b[0mpath\u001b[0m\u001b[0;34m)\u001b[0m\u001b[0;34m(\u001b[0m\u001b[0mpath\u001b[0m\u001b[0;34m,\u001b[0m \u001b[0mmode\u001b[0m\u001b[0;34m,\u001b[0m \u001b[0mdriver\u001b[0m\u001b[0;34m=\u001b[0m\u001b[0mdriver\u001b[0m\u001b[0;34m,\u001b[0m \u001b[0msharing\u001b[0m\u001b[0;34m=\u001b[0m\u001b[0msharing\u001b[0m\u001b[0;34m,\u001b[0m \u001b[0;34m**\u001b[0m\u001b[0mkwargs\u001b[0m\u001b[0;34m)\u001b[0m\u001b[0;34m\u001b[0m\u001b[0;34m\u001b[0m\u001b[0m\n",
      "\u001b[0;32mrasterio/_base.pyx\u001b[0m in \u001b[0;36mrasterio._base.DatasetBase.__init__\u001b[0;34m()\u001b[0m\n",
      "\u001b[0;31mRasterioIOError\u001b[0m: ../../../../../../Datos/Imagenes/Sentinel/T18NVL_20200104T152639_B01.jp2: No such file or directory"
     ]
    }
   ],
   "source": [
    "# Resolución espacial de las bandas en la imagen satelital\n",
    "bandas = []\n",
    "res = []\n",
    "print('Nombre Arhivo'+ '\\t'*3 + 'Res. Espacial')\n",
    "for image in images:\n",
    "    with ras.open(image) as src:\n",
    "        a1 = os.path.splitext(os.path.basename(image))[0]\n",
    "        print('{}\\t\\t{:.0f}' .format(a1, src.profile['transform'][0], (-1)*src.profile['transform'][4]))\n",
    "        bandas.append(a1)\n",
    "        res.append(str(src.profile['transform'][0]) + ', ' + str(src.profile['transform'][2]))"
   ]
  },
  {
   "cell_type": "code",
   "execution_count": null,
   "metadata": {},
   "outputs": [],
   "source": []
  }
 ],
 "metadata": {
  "kernelspec": {
   "display_name": "Python 3",
   "language": "python",
   "name": "python3"
  },
  "language_info": {
   "codemirror_mode": {
    "name": "ipython",
    "version": 3
   },
   "file_extension": ".py",
   "mimetype": "text/x-python",
   "name": "python",
   "nbconvert_exporter": "python",
   "pygments_lexer": "ipython3",
   "version": "3.7.6"
  }
 },
 "nbformat": 4,
 "nbformat_minor": 4
}
