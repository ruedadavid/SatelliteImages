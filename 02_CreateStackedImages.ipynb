{
 "cells": [
  {
   "cell_type": "markdown",
   "metadata": {},
   "source": [
    "# Universidad Distrital Francisco José de Caldas\n",
    "## Class: Advanced Image Processing - Remote Sensing with Python (Basic Activities)\n",
    "### Por: David Alonso Rueda Rodríguez\n",
    "\n",
    "### 2. Crear Imágenes Stack\n",
    "\n",
    "#### Objetivo de la actividad:\n",
    "- Comparar el rendimiento de 3 rutinas para concatenar las bandas de imágenes satelitales.\n",
    "\n",
    "#### Librerías requeridas:\n",
    "- **rasterio** (librería para comparación)\n",
    "- **gdal** (librería para comparación)\n",
    "- **earthpy** (librería para comparación)\n",
    "- datetime\n",
    "\n",
    "#### Fuente de datos:\n",
    "\n",
    "https://gis.stackexchange.com/questions/223910/using-rasterio-or-gdal-to-stack-multiple-bands-without-using-subprocess-commands"
   ]
  },
  {
   "cell_type": "code",
   "execution_count": 4,
   "metadata": {},
   "outputs": [],
   "source": [
    "import rasterio as ras\n",
    "import glob\n",
    "import json\n",
    "import os\n",
    "import re\n",
    "import earthpy as et\n",
    "import earthpy.spatial as es\n",
    "from osgeo import gdal\n",
    "from datetime import datetime"
   ]
  },
  {
   "cell_type": "code",
   "execution_count": 5,
   "metadata": {},
   "outputs": [],
   "source": [
    "def time():\n",
    "    from datetime import datetime as dt\n",
    "    now = dt.now()\n",
    "    timestamp = dt.timestamp(now)\n",
    "    return timestamp"
   ]
  },
  {
   "cell_type": "markdown",
   "metadata": {},
   "source": [
    "## Preparación de datos de prueba\n",
    "\n",
    "### Determinación de Resolución espacial para bandas\n",
    "\n",
    "Es necesario hacer una identificación de la resolución espacial y con este dato hacer la concatenacióno de las imágenes (layer stack), en caso de realizar la concatenación con todas las bandas estás serán remuestreadas a la menor resolución espacial disponible."
   ]
  },
  {
   "cell_type": "markdown",
   "metadata": {},
   "source": [
    "#### Obtener datos desde directorio de trabajo"
   ]
  },
  {
   "cell_type": "code",
   "execution_count": 15,
   "metadata": {},
   "outputs": [],
   "source": [
    "# Obtener archivos jp2 en el directorio de interés\n",
    "url_base = 'src/Sentinel/'\n",
    "images = glob.glob(url_base + '*.jp2')"
   ]
  },
  {
   "cell_type": "markdown",
   "metadata": {},
   "source": [
    "#### Identificación de resolución espacial para las bandas de la imagen satelital"
   ]
  },
  {
   "cell_type": "code",
   "execution_count": 7,
   "metadata": {},
   "outputs": [
    {
     "name": "stdout",
     "output_type": "stream",
     "text": [
      "Nombre Arhivo\t\t\tRes. Espacial\n",
      "T18NVL_20200104T152639_B01.jp2\t\t60\n",
      "T18NVL_20200104T152639_B02.jp2\t\t10\n",
      "T18NVL_20200104T152639_B03.jp2\t\t10\n",
      "T18NVL_20200104T152639_B04.jp2\t\t10\n",
      "T18NVL_20200104T152639_B05.jp2\t\t20\n",
      "T18NVL_20200104T152639_B06.jp2\t\t20\n",
      "T18NVL_20200104T152639_B07.jp2\t\t20\n",
      "T18NVL_20200104T152639_B08.jp2\t\t10\n",
      "T18NVL_20200104T152639_B08A.jp2\t\t20\n",
      "T18NVL_20200104T152639_B09.jp2\t\t60\n",
      "T18NVL_20200104T152639_B10.jp2\t\t60\n",
      "T18NVL_20200104T152639_B11.jp2\t\t20\n",
      "T18NVL_20200104T152639_B12.jp2\t\t20\n"
     ]
    }
   ],
   "source": [
    "# Resolución espacial de las bandas en la imagen satelital\n",
    "bandas = []\n",
    "res = []\n",
    "print('Nombre Arhivo'+ '\\t'*3 + 'Res. Espacial')\n",
    "for image in images:\n",
    "    with ras.open(image) as src:\n",
    "        #a1 = os.path.splitext(os.path.basename(image))[0]\n",
    "        a1 = os.path.basename(image)\n",
    "        print('{}\\t\\t{:.0f}' .format(a1, src.profile['transform'][0], (-1)*src.profile['transform'][4]))\n",
    "        bandas.append(a1)\n",
    "        res.append(str(src.profile['transform'][0]) + ', ' + str(src.profile['transform'][2]))"
   ]
  },
  {
   "cell_type": "markdown",
   "metadata": {},
   "source": [
    "### Resumen de datos para trabajarse\n",
    "\n",
    "#### - 10 metros resolución espacial\n",
    "\n",
    "- T18NVL_20200104T152639_B02: 10\n",
    "- T18NVL_20200104T152639_B03: 10\n",
    "- T18NVL_20200104T152639_B04: 10\n",
    "- T18NVL_20200104T152639_B08: 10\n",
    "\n",
    "#### - 20 metros resolución espacial\n",
    "\n",
    "- T18NVL_20200104T152639_B05: 20\n",
    "- T18NVL_20200104T152639_B06: 20\n",
    "- T18NVL_20200104T152639_B07: 20\n",
    "- T18NVL_20200104T152639_B08A: 20\n",
    "- T18NVL_20200104T152639_B11: 20\n",
    "- T18NVL_20200104T152639_B12: 20\n",
    "\n",
    "#### - 60 metros resolución espacial\n",
    "\n",
    "- T18NVL_20200104T152639_B01: 60\n",
    "- T18NVL_20200104T152639_B09: 60\n",
    "- T18NVL_20200104T152639_B10: 60"
   ]
  },
  {
   "cell_type": "code",
   "execution_count": 16,
   "metadata": {},
   "outputs": [],
   "source": [
    "# Discriminación de datos por resolución espacial\n",
    "sentinel_10 = [\n",
    "    'T18NVL_20200104T152639_B02.jp2', 'T18NVL_20200104T152639_B03.jp2',\n",
    "    'T18NVL_20200104T152639_B04.jp2', 'T18NVL_20200104T152639_B08.jp2'\n",
    "]\n",
    "sentinel_20 = [\n",
    "    'T18NVL_20200104T152639_B05.jp2', 'T18NVL_20200104T152639_B06.jp2', \n",
    "    'T18NVL_20200104T152639_B07.jp2', 'T18NVL_20200104T152639_B08A.jp2', \n",
    "    'T18NVL_20200104T152639_B11.jp2', 'T18NVL_20200104T152639_B12.jp2'\n",
    "]\n",
    "sentinel_60 = [\n",
    "    'T18NVL_20200104T152639_B01.jp2', 'T18NVL_20200104T152639_B09.jp2',\n",
    "    'T18NVL_20200104T152639_B10.jp2'\n",
    "]"
   ]
  },
  {
   "cell_type": "code",
   "execution_count": 17,
   "metadata": {},
   "outputs": [],
   "source": [
    "# Agregación de url_base con listado de archivos\n",
    "sentinel_10m = []\n",
    "sentinel_20m = []\n",
    "for i in sentinel_10:\n",
    "    sentinel_10m.append(url_base + i)\n",
    "for i in sentinel_20:\n",
    "    sentinel_20m.append(url_base + i)  "
   ]
  },
  {
   "cell_type": "code",
   "execution_count": 18,
   "metadata": {},
   "outputs": [
    {
     "data": {
      "text/plain": [
       "['src/Sentinel/T18NVL_20200104T152639_B02.jp2',\n",
       " 'src/Sentinel/T18NVL_20200104T152639_B03.jp2',\n",
       " 'src/Sentinel/T18NVL_20200104T152639_B04.jp2',\n",
       " 'src/Sentinel/T18NVL_20200104T152639_B08.jp2']"
      ]
     },
     "execution_count": 18,
     "metadata": {},
     "output_type": "execute_result"
    }
   ],
   "source": [
    "# Listado de archivos para prueba\n",
    "sentinel_10m"
   ]
  },
  {
   "cell_type": "markdown",
   "metadata": {},
   "source": [
    "## Datos de prueba"
   ]
  },
  {
   "cell_type": "markdown",
   "metadata": {},
   "source": [
    "### Layer Stack con librería GDAL\n",
    "Esta prueba permite identificar el tiempo empleado en la creación del layer stack con la librería **GDAL**"
   ]
  },
  {
   "cell_type": "code",
   "execution_count": 19,
   "metadata": {},
   "outputs": [
    {
     "name": "stdout",
     "output_type": "stream",
     "text": [
      "Layer Stack Finalizado.\n",
      "Duración de la actividad: 131.01 segundos\n"
     ]
    }
   ],
   "source": [
    "#\n",
    "# Medición de tiempo inicial.\n",
    "timestamp = time()\n",
    "#\n",
    "# Inicializar rutas relativas para almacenamiento de archivos\n",
    "outvrt = os.path.join(url_base, 'gdal/Sentinel_10m.vrt')\n",
    "outtif = os.path.join(url_base, 'gdal/Sentinel_10m.tif')\n",
    "#\n",
    "# Crear archivo\n",
    "outds = gdal.BuildVRT(outvrt, sentinel_10m, separate=True)\n",
    "outds = gdal.Translate(outtif, outds)\n",
    "#\n",
    "# Medición de tiempo final\n",
    "timestamp2 = time()\n",
    "#\n",
    "# Tiempo empleado en la actividad\n",
    "print(\"Layer Stack Finalizado.\\nDuración de la actividad: {:.2f} segundos\" .format(timestamp2-timestamp))"
   ]
  },
  {
   "cell_type": "markdown",
   "metadata": {},
   "source": [
    "### Layer Stack con Earthpy\n",
    "\n",
    "Esta prueba permite identificar el tiempo empleado en la creación del layer stack con la librería **Earthpy**"
   ]
  },
  {
   "cell_type": "code",
   "execution_count": 20,
   "metadata": {},
   "outputs": [
    {
     "name": "stdout",
     "output_type": "stream",
     "text": [
      "Layer Stack Finalizado.\n",
      "Duración de la actividad: 380.59 segundos\n"
     ]
    }
   ],
   "source": [
    "#\n",
    "# Rutina para medicación de tiempo empleado.\n",
    "now = datetime.now()\n",
    "timestamp = datetime.timestamp(now)\n",
    "\n",
    "#\n",
    "# Inicialización de rutas de trabajo\n",
    "et.io.HOME = '/home/jovyan/work/Ciencia/src/'\n",
    "raster_out_path = os.path.join(et.io.HOME, \"Sentinel/earthpy/\")\n",
    "\n",
    "array, raster_prof = es.stack(sentinel_10m, out_path=raster_out_path + 'Sentinel_Out.jp2')\n",
    "\n",
    "#\n",
    "# Rutina para medicación de tiempo empleado.\n",
    "now = datetime.now()\n",
    "timestamp2 = datetime.timestamp(now)\n",
    "print(\"Layer Stack Finalizado.\\nDuración de la actividad: {:.2f} segundos\" .format(timestamp2-timestamp))"
   ]
  },
  {
   "cell_type": "markdown",
   "metadata": {},
   "source": [
    "### Layer Stack con Librería Rasterio\n",
    "Esta prueba permite identificar el tiempo empleado en la creación del layer stack con la librería **Rasterio**"
   ]
  },
  {
   "cell_type": "code",
   "execution_count": 65,
   "metadata": {},
   "outputs": [],
   "source": [
    "#\n",
    "# Rutina para medicación de tiempo empleado.\n",
    "now = datetime.now()\n",
    "timestamp = datetime.timestamp(now)\n",
    "\n",
    "# Crear Layer stack!\n",
    "file_list = glob.glob('src/Sentinel/*.jp2')\n",
    "# Read metadata of first file\n",
    "with ras.open(file_list[0]) as src0:\n",
    "    meta = src0.meta\n",
    "\n",
    "# Update meta to reflect the number of layers\n",
    "meta.update(count = len(file_list))\n",
    "\n",
    "# Read each layer and write it to stack\n",
    "with ras.open('src/Sentinel/rasterio/Sentinel.tif', 'w', **meta) as dst:\n",
    "    for id, layer in enumerate(file_list, start=1):\n",
    "        with ras.open(layer) as src1:\n",
    "            dst.write_band(id, src1.read(1))\n",
    "\n",
    "now = datetime.now()\n",
    "timestamp2 = datetime.timestamp(now)\n",
    "print(\"Layer Stack Finalizado.\\nDuración de la actividad: {:.2f} segundos\" .format(timestamp2-timestamp))"
   ]
  }
 ],
 "metadata": {
  "kernelspec": {
   "display_name": "Python 3",
   "language": "python",
   "name": "python3"
  },
  "language_info": {
   "codemirror_mode": {
    "name": "ipython",
    "version": 3
   },
   "file_extension": ".py",
   "mimetype": "text/x-python",
   "name": "python",
   "nbconvert_exporter": "python",
   "pygments_lexer": "ipython3",
   "version": "3.7.6"
  }
 },
 "nbformat": 4,
 "nbformat_minor": 4
}
