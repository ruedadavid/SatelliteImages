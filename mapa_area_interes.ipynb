{
 "cells": [
  {
   "cell_type": "markdown",
   "metadata": {},
   "source": [
    "# Función para generar caja de Área de estudio"
   ]
  },
  {
   "cell_type": "code",
   "execution_count": 3,
   "metadata": {},
   "outputs": [],
   "source": [
    "def mapa_area_interes(json_path, name_area, zoom_op = 10, tipo_image = 'Stamen Terrain'):\n",
    "    \"\"\"\n",
    "    Función mapa_area_interes\n",
    "    \n",
    "    Objetivo: \n",
    "    \n",
    "    - Generar mapa de interés leyendo un archivo geojson. Como resultado se presenta\n",
    "    un mapa del área de interés, y agregar una marca de posición con el nombre del\n",
    "    área\n",
    "    \n",
    "    Variables de Entrada:\n",
    "    \n",
    "    - json_path  = Dirección donde está almacenado el archivo json\n",
    "    - name_area  = Nombre asignado al área de trabajo\n",
    "    - zoom_op    = Zoom para presentación del área por defecto 10\n",
    "    - tipo_image = Tipo de imagen para mostrar, por defecto se establece Stamen Terrain\n",
    "        se tienen otras opciones que son heredadas desde follium:\n",
    "            * OpenStreetMap\n",
    "            * Stament Terrain\n",
    "            * Mapbox Bright\n",
    "            * CartoDB positron\n",
    "    \n",
    "    Desarrollado por: David Alonso Rueda Rodríguez    \n",
    "    \n",
    "    Versiones:\n",
    "    \n",
    "    000 - 20200303. Se agrega importación de función centroide\n",
    "    2 - 20190516. Se agrega función para estimar centroide, y documentación de ayuda.\n",
    "    1   - 20190515. Preparación inicial de la función.\n",
    "    \"\"\"\n",
    "    import folium as fl\n",
    "    import geojson\n",
    "    import json\n",
    "    import os\n",
    "    from geojson_utils import centroid\n",
    "    \n",
    "    area_interes = os.path.join('',json_path)    \n",
    "\n",
    "    with open(area_interes) as g:\n",
    "        gj = geojson.load(g)\n",
    "    entidades = gj['features'][0]\n",
    "    centroide = centroid(entidades['geometry'])\n",
    "    cent = [centroide['coordinates'][1], centroide['coordinates'][0]]\n",
    "    \n",
    "    m= fl.Map( \n",
    "        location= cent,\n",
    "        tiles=tipo_image,\n",
    "        zoom_start = zoom_op,\n",
    "    )\n",
    "    fl.GeoJson(\n",
    "        area_interes,\n",
    "        name=name_area\n",
    "    ).add_to(m)\n",
    "    fl.Marker(\n",
    "        location= cent,\n",
    "        popup = name_area\n",
    "    ).add_to(m)\n",
    "    fl.LayerControl().add_to(m)\n",
    "    print(\"\\n\\nMapa del {}\" .format(name_area))\n",
    "    return m"
   ]
  },
  {
   "cell_type": "code",
   "execution_count": 4,
   "metadata": {
    "scrolled": true
   },
   "outputs": [
    {
     "name": "stdout",
     "output_type": "stream",
     "text": [
      "\n",
      "\n",
      "Mapa del AOI\n"
     ]
    },
    {
     "data": {
      "text/html": [
       "<div style=\"width:100%;\"><div style=\"position:relative;width:100%;height:0;padding-bottom:60%;\"><iframe src=\"about:blank\" style=\"position:absolute;width:100%;height:100%;left:0;top:0;border:none !important;\" data-html=PCFET0NUWVBFIGh0bWw+CjxoZWFkPiAgICAKICAgIDxtZXRhIGh0dHAtZXF1aXY9ImNvbnRlbnQtdHlwZSIgY29udGVudD0idGV4dC9odG1sOyBjaGFyc2V0PVVURi04IiAvPgogICAgCiAgICAgICAgPHNjcmlwdD4KICAgICAgICAgICAgTF9OT19UT1VDSCA9IGZhbHNlOwogICAgICAgICAgICBMX0RJU0FCTEVfM0QgPSBmYWxzZTsKICAgICAgICA8L3NjcmlwdD4KICAgIAogICAgPHNjcmlwdCBzcmM9Imh0dHBzOi8vY2RuLmpzZGVsaXZyLm5ldC9ucG0vbGVhZmxldEAxLjUuMS9kaXN0L2xlYWZsZXQuanMiPjwvc2NyaXB0PgogICAgPHNjcmlwdCBzcmM9Imh0dHBzOi8vY29kZS5qcXVlcnkuY29tL2pxdWVyeS0xLjEyLjQubWluLmpzIj48L3NjcmlwdD4KICAgIDxzY3JpcHQgc3JjPSJodHRwczovL21heGNkbi5ib290c3RyYXBjZG4uY29tL2Jvb3RzdHJhcC8zLjIuMC9qcy9ib290c3RyYXAubWluLmpzIj48L3NjcmlwdD4KICAgIDxzY3JpcHQgc3JjPSJodHRwczovL2NkbmpzLmNsb3VkZmxhcmUuY29tL2FqYXgvbGlicy9MZWFmbGV0LmF3ZXNvbWUtbWFya2Vycy8yLjAuMi9sZWFmbGV0LmF3ZXNvbWUtbWFya2Vycy5qcyI+PC9zY3JpcHQ+CiAgICA8bGluayByZWw9InN0eWxlc2hlZXQiIGhyZWY9Imh0dHBzOi8vY2RuLmpzZGVsaXZyLm5ldC9ucG0vbGVhZmxldEAxLjUuMS9kaXN0L2xlYWZsZXQuY3NzIi8+CiAgICA8bGluayByZWw9InN0eWxlc2hlZXQiIGhyZWY9Imh0dHBzOi8vbWF4Y2RuLmJvb3RzdHJhcGNkbi5jb20vYm9vdHN0cmFwLzMuMi4wL2Nzcy9ib290c3RyYXAubWluLmNzcyIvPgogICAgPGxpbmsgcmVsPSJzdHlsZXNoZWV0IiBocmVmPSJodHRwczovL21heGNkbi5ib290c3RyYXBjZG4uY29tL2Jvb3RzdHJhcC8zLjIuMC9jc3MvYm9vdHN0cmFwLXRoZW1lLm1pbi5jc3MiLz4KICAgIDxsaW5rIHJlbD0ic3R5bGVzaGVldCIgaHJlZj0iaHR0cHM6Ly9tYXhjZG4uYm9vdHN0cmFwY2RuLmNvbS9mb250LWF3ZXNvbWUvNC42LjMvY3NzL2ZvbnQtYXdlc29tZS5taW4uY3NzIi8+CiAgICA8bGluayByZWw9InN0eWxlc2hlZXQiIGhyZWY9Imh0dHBzOi8vY2RuanMuY2xvdWRmbGFyZS5jb20vYWpheC9saWJzL0xlYWZsZXQuYXdlc29tZS1tYXJrZXJzLzIuMC4yL2xlYWZsZXQuYXdlc29tZS1tYXJrZXJzLmNzcyIvPgogICAgPGxpbmsgcmVsPSJzdHlsZXNoZWV0IiBocmVmPSJodHRwczovL3Jhd2Nkbi5naXRoYWNrLmNvbS9weXRob24tdmlzdWFsaXphdGlvbi9mb2xpdW0vbWFzdGVyL2ZvbGl1bS90ZW1wbGF0ZXMvbGVhZmxldC5hd2Vzb21lLnJvdGF0ZS5jc3MiLz4KICAgIDxzdHlsZT5odG1sLCBib2R5IHt3aWR0aDogMTAwJTtoZWlnaHQ6IDEwMCU7bWFyZ2luOiAwO3BhZGRpbmc6IDA7fTwvc3R5bGU+CiAgICA8c3R5bGU+I21hcCB7cG9zaXRpb246YWJzb2x1dGU7dG9wOjA7Ym90dG9tOjA7cmlnaHQ6MDtsZWZ0OjA7fTwvc3R5bGU+CiAgICAKICAgICAgICAgICAgPG1ldGEgbmFtZT0idmlld3BvcnQiIGNvbnRlbnQ9IndpZHRoPWRldmljZS13aWR0aCwKICAgICAgICAgICAgICAgIGluaXRpYWwtc2NhbGU9MS4wLCBtYXhpbXVtLXNjYWxlPTEuMCwgdXNlci1zY2FsYWJsZT1ubyIgLz4KICAgICAgICAgICAgPHN0eWxlPgogICAgICAgICAgICAgICAgI21hcF82NjIzNzhhOWZlNTc0N2VlYTE4MTg5MGY5YzQ4NzM5OSB7CiAgICAgICAgICAgICAgICAgICAgcG9zaXRpb246IHJlbGF0aXZlOwogICAgICAgICAgICAgICAgICAgIHdpZHRoOiAxMDAuMCU7CiAgICAgICAgICAgICAgICAgICAgaGVpZ2h0OiAxMDAuMCU7CiAgICAgICAgICAgICAgICAgICAgbGVmdDogMC4wJTsKICAgICAgICAgICAgICAgICAgICB0b3A6IDAuMCU7CiAgICAgICAgICAgICAgICB9CiAgICAgICAgICAgIDwvc3R5bGU+CiAgICAgICAgCjwvaGVhZD4KPGJvZHk+ICAgIAogICAgCiAgICAgICAgICAgIDxkaXYgY2xhc3M9ImZvbGl1bS1tYXAiIGlkPSJtYXBfNjYyMzc4YTlmZTU3NDdlZWExODE4OTBmOWM0ODczOTkiID48L2Rpdj4KICAgICAgICAKPC9ib2R5Pgo8c2NyaXB0PiAgICAKICAgIAogICAgICAgICAgICB2YXIgbWFwXzY2MjM3OGE5ZmU1NzQ3ZWVhMTgxODkwZjljNDg3Mzk5ID0gTC5tYXAoCiAgICAgICAgICAgICAgICAibWFwXzY2MjM3OGE5ZmU1NzQ3ZWVhMTgxODkwZjljNDg3Mzk5IiwKICAgICAgICAgICAgICAgIHsKICAgICAgICAgICAgICAgICAgICBjZW50ZXI6IFs0LjUyODg0OTk5OTk5OTIxLCAtNzUuNDY5OTk5OTk5OTg3N10sCiAgICAgICAgICAgICAgICAgICAgY3JzOiBMLkNSUy5FUFNHMzg1NywKICAgICAgICAgICAgICAgICAgICB6b29tOiAxMCwKICAgICAgICAgICAgICAgICAgICB6b29tQ29udHJvbDogdHJ1ZSwKICAgICAgICAgICAgICAgICAgICBwcmVmZXJDYW52YXM6IGZhbHNlLAogICAgICAgICAgICAgICAgfQogICAgICAgICAgICApOwoKICAgICAgICAgICAgCgogICAgICAgIAogICAgCiAgICAgICAgICAgIHZhciB0aWxlX2xheWVyXzgzMGY5MWQ5M2Y1NjQ2OTY4ZTU0OWIwMzc5YmI5MWJmID0gTC50aWxlTGF5ZXIoCiAgICAgICAgICAgICAgICAiaHR0cHM6Ly9zdGFtZW4tdGlsZXMte3N9LmEuc3NsLmZhc3RseS5uZXQvdGVycmFpbi97en0ve3h9L3t5fS5qcGciLAogICAgICAgICAgICAgICAgeyJhdHRyaWJ1dGlvbiI6ICJNYXAgdGlsZXMgYnkgXHUwMDNjYSBocmVmPVwiaHR0cDovL3N0YW1lbi5jb21cIlx1MDAzZVN0YW1lbiBEZXNpZ25cdTAwM2MvYVx1MDAzZSwgdW5kZXIgXHUwMDNjYSBocmVmPVwiaHR0cDovL2NyZWF0aXZlY29tbW9ucy5vcmcvbGljZW5zZXMvYnkvMy4wXCJcdTAwM2VDQyBCWSAzLjBcdTAwM2MvYVx1MDAzZS4gRGF0YSBieSBcdTAwMjZjb3B5OyBcdTAwM2NhIGhyZWY9XCJodHRwOi8vb3BlbnN0cmVldG1hcC5vcmdcIlx1MDAzZU9wZW5TdHJlZXRNYXBcdTAwM2MvYVx1MDAzZSwgdW5kZXIgXHUwMDNjYSBocmVmPVwiaHR0cDovL2NyZWF0aXZlY29tbW9ucy5vcmcvbGljZW5zZXMvYnktc2EvMy4wXCJcdTAwM2VDQyBCWSBTQVx1MDAzYy9hXHUwMDNlLiIsICJkZXRlY3RSZXRpbmEiOiBmYWxzZSwgIm1heE5hdGl2ZVpvb20iOiAxOCwgIm1heFpvb20iOiAxOCwgIm1pblpvb20iOiAwLCAibm9XcmFwIjogZmFsc2UsICJvcGFjaXR5IjogMSwgInN1YmRvbWFpbnMiOiAiYWJjIiwgInRtcyI6IGZhbHNlfQogICAgICAgICAgICApLmFkZFRvKG1hcF82NjIzNzhhOWZlNTc0N2VlYTE4MTg5MGY5YzQ4NzM5OSk7CiAgICAgICAgCiAgICAKICAgICAgICBmdW5jdGlvbiBnZW9fanNvbl9lZDAxNWVkZGJmYWU0NWRiYjc1MzZiYTE2NGY3YzliZl9vbkVhY2hGZWF0dXJlKGZlYXR1cmUsIGxheWVyKSB7CiAgICAgICAgICAgIGxheWVyLm9uKHsKICAgICAgICAgICAgICAgIGNsaWNrOiBmdW5jdGlvbihlKSB7CiAgICAgICAgICAgICAgICAgICAgbWFwXzY2MjM3OGE5ZmU1NzQ3ZWVhMTgxODkwZjljNDg3Mzk5LmZpdEJvdW5kcyhlLnRhcmdldC5nZXRCb3VuZHMoKSk7CiAgICAgICAgICAgICAgICB9CiAgICAgICAgICAgIH0pOwogICAgICAgIH07CiAgICAgICAgdmFyIGdlb19qc29uX2VkMDE1ZWRkYmZhZTQ1ZGJiNzUzNmJhMTY0ZjdjOWJmID0gTC5nZW9Kc29uKG51bGwsIHsKICAgICAgICAgICAgICAgIG9uRWFjaEZlYXR1cmU6IGdlb19qc29uX2VkMDE1ZWRkYmZhZTQ1ZGJiNzUzNmJhMTY0ZjdjOWJmX29uRWFjaEZlYXR1cmUsCiAgICAgICAgICAgIAogICAgICAgIH0pOwogICAgICAgIGZ1bmN0aW9uIGdlb19qc29uX2VkMDE1ZWRkYmZhZTQ1ZGJiNzUzNmJhMTY0ZjdjOWJmX2FkZCAoZGF0YSkgewogICAgICAgICAgICBnZW9fanNvbl9lZDAxNWVkZGJmYWU0NWRiYjc1MzZiYTE2NGY3YzliZi5hZGREYXRhKGRhdGEpCiAgICAgICAgICAgICAgICAuYWRkVG8obWFwXzY2MjM3OGE5ZmU1NzQ3ZWVhMTgxODkwZjljNDg3Mzk5KTsKICAgICAgICB9CiAgICAgICAgICAgIGdlb19qc29uX2VkMDE1ZWRkYmZhZTQ1ZGJiNzUzNmJhMTY0ZjdjOWJmX2FkZCh7ImNycyI6IHsicHJvcGVydGllcyI6IHsibmFtZSI6ICJ1cm46b2djOmRlZjpjcnM6T0dDOjEuMzpDUlM4NCJ9LCAidHlwZSI6ICJuYW1lIn0sICJmZWF0dXJlcyI6IFt7Imdlb21ldHJ5IjogeyJjb29yZGluYXRlcyI6IFtbWy03NS4zOCwgNC40MzddLCBbLTc1LjU2LCA0LjQzN10sIFstNzUuNTYsIDQuNjIwN10sIFstNzUuMzgsIDQuNjIwN10sIFstNzUuMzgsIDQuNDM3XV1dLCAidHlwZSI6ICJQb2x5Z29uIn0sICJwcm9wZXJ0aWVzIjogeyJBUkVBX09GSUNJIjogNTIwLjAsICJDT0RfREVQVE8iOiAiNzMiLCAiRU5USURBRF9URSI6ICJDYWJlY2VyYSBNdW5pY2lwYWwiLCAiSURfRVNQQUNJQSI6ICI3MzEyNCIsICJOT01fREVQQVJUIjogIlRPTElNQSIsICJOT01fTVVOSUNJIjogIkNBSkFNQVJDQSJ9LCAidHlwZSI6ICJGZWF0dXJlIn1dLCAibmFtZSI6ICJhb2lfTExXODQiLCAidHlwZSI6ICJGZWF0dXJlQ29sbGVjdGlvbiJ9KTsKICAgICAgICAKICAgIAogICAgICAgICAgICB2YXIgbWFya2VyXzU3MDMyZjFhNjM1MTRkNDNiOGNhYjQzZDJiYTNhMzAyID0gTC5tYXJrZXIoCiAgICAgICAgICAgICAgICBbNC41Mjg4NDk5OTk5OTkyMSwgLTc1LjQ2OTk5OTk5OTk4NzddLAogICAgICAgICAgICAgICAge30KICAgICAgICAgICAgKS5hZGRUbyhtYXBfNjYyMzc4YTlmZTU3NDdlZWExODE4OTBmOWM0ODczOTkpOwogICAgICAgIAogICAgCiAgICAgICAgdmFyIHBvcHVwXzJlNTk1ZmY1Yzc1MDRkYjQ5NDUyNGJjNDJkNmFmMDEyID0gTC5wb3B1cCh7Im1heFdpZHRoIjogIjEwMCUifSk7CgogICAgICAgIAogICAgICAgICAgICB2YXIgaHRtbF9iMTkwNGRjZDhkODQ0ZDc4OGFlY2E4N2E2ZDBkYzlmMSA9ICQoYDxkaXYgaWQ9Imh0bWxfYjE5MDRkY2Q4ZDg0NGQ3ODhhZWNhODdhNmQwZGM5ZjEiIHN0eWxlPSJ3aWR0aDogMTAwLjAlOyBoZWlnaHQ6IDEwMC4wJTsiPkFPSTwvZGl2PmApWzBdOwogICAgICAgICAgICBwb3B1cF8yZTU5NWZmNWM3NTA0ZGI0OTQ1MjRiYzQyZDZhZjAxMi5zZXRDb250ZW50KGh0bWxfYjE5MDRkY2Q4ZDg0NGQ3ODhhZWNhODdhNmQwZGM5ZjEpOwogICAgICAgIAoKICAgICAgICBtYXJrZXJfNTcwMzJmMWE2MzUxNGQ0M2I4Y2FiNDNkMmJhM2EzMDIuYmluZFBvcHVwKHBvcHVwXzJlNTk1ZmY1Yzc1MDRkYjQ5NDUyNGJjNDJkNmFmMDEyKQogICAgICAgIDsKCiAgICAgICAgCiAgICAKICAgIAogICAgICAgICAgICB2YXIgbGF5ZXJfY29udHJvbF8xMDdjNmJkMGMwNjc0N2QwYmQ1NDg4NThhZTQzYWRkZSA9IHsKICAgICAgICAgICAgICAgIGJhc2VfbGF5ZXJzIDogewogICAgICAgICAgICAgICAgICAgICJzdGFtZW50ZXJyYWluIiA6IHRpbGVfbGF5ZXJfODMwZjkxZDkzZjU2NDY5NjhlNTQ5YjAzNzliYjkxYmYsCiAgICAgICAgICAgICAgICB9LAogICAgICAgICAgICAgICAgb3ZlcmxheXMgOiAgewogICAgICAgICAgICAgICAgICAgICJBT0kiIDogZ2VvX2pzb25fZWQwMTVlZGRiZmFlNDVkYmI3NTM2YmExNjRmN2M5YmYsCiAgICAgICAgICAgICAgICB9LAogICAgICAgICAgICB9OwogICAgICAgICAgICBMLmNvbnRyb2wubGF5ZXJzKAogICAgICAgICAgICAgICAgbGF5ZXJfY29udHJvbF8xMDdjNmJkMGMwNjc0N2QwYmQ1NDg4NThhZTQzYWRkZS5iYXNlX2xheWVycywKICAgICAgICAgICAgICAgIGxheWVyX2NvbnRyb2xfMTA3YzZiZDBjMDY3NDdkMGJkNTQ4ODU4YWU0M2FkZGUub3ZlcmxheXMsCiAgICAgICAgICAgICAgICB7ImF1dG9aSW5kZXgiOiB0cnVlLCAiY29sbGFwc2VkIjogdHJ1ZSwgInBvc2l0aW9uIjogInRvcHJpZ2h0In0KICAgICAgICAgICAgKS5hZGRUbyhtYXBfNjYyMzc4YTlmZTU3NDdlZWExODE4OTBmOWM0ODczOTkpOwogICAgICAgIAo8L3NjcmlwdD4= onload=\"this.contentDocument.open();this.contentDocument.write(atob(this.getAttribute('data-html')));this.contentDocument.close();\" allowfullscreen webkitallowfullscreen mozallowfullscreen></iframe></div></div>"
      ],
      "text/plain": [
       "<folium.folium.Map at 0x7fef16f26ed0>"
      ]
     },
     "execution_count": 4,
     "metadata": {},
     "output_type": "execute_result"
    }
   ],
   "source": [
    "mapa_area_interes('src/aoi_LLW84.json', 'AOI')"
   ]
  }
 ],
 "metadata": {
  "kernelspec": {
   "display_name": "Python 3",
   "language": "python",
   "name": "python3"
  },
  "language_info": {
   "codemirror_mode": {
    "name": "ipython",
    "version": 3
   },
   "file_extension": ".py",
   "mimetype": "text/x-python",
   "name": "python",
   "nbconvert_exporter": "python",
   "pygments_lexer": "ipython3",
   "version": "3.7.6"
  }
 },
 "nbformat": 4,
 "nbformat_minor": 4
}
