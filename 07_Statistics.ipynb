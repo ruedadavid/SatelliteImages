{
 "cells": [
  {
   "cell_type": "markdown",
   "metadata": {},
   "source": [
    "# 7. Statistics\n",
    "\n",
    "### Por: David Alonso Rueda Rodríguez\n",
    "\n",
    "### Objetivo:\n",
    "- Calcular estadísticas básicas de las imágenes\n",
    "\n",
    "#### Esta actividad requiere la ejecución de las siguentes librerías:\n",
    "\n",
    "- gdal\n",
    "- numpy\n",
    "- glob\n",
    "- matplotlib\n",
    "\n",
    "## Fuente Original:\n"
   ]
  },
  {
   "cell_type": "code",
   "execution_count": 5,
   "metadata": {},
   "outputs": [],
   "source": [
    "import glob\n",
    "import os\n",
    "import numpy as np\n",
    "import matplotlib.pyplot as plt\n",
    "from osgeo import gdal"
   ]
  },
  {
   "cell_type": "code",
   "execution_count": 6,
   "metadata": {},
   "outputs": [
    {
     "data": {
      "text/plain": [
       "['../Datos/Landsat/LC08_L1TP_009057_20190903_20190917_01_T1_B1.TIF',\n",
       " '../Datos/Landsat/LC08_L1TP_009057_20190903_20190917_01_T1_B10.TIF',\n",
       " '../Datos/Landsat/LC08_L1TP_009057_20190903_20190917_01_T1_B11.TIF',\n",
       " '../Datos/Landsat/LC08_L1TP_009057_20190903_20190917_01_T1_B2.TIF',\n",
       " '../Datos/Landsat/LC08_L1TP_009057_20190903_20190917_01_T1_B3.TIF',\n",
       " '../Datos/Landsat/LC08_L1TP_009057_20190903_20190917_01_T1_B4.TIF',\n",
       " '../Datos/Landsat/LC08_L1TP_009057_20190903_20190917_01_T1_B5.TIF',\n",
       " '../Datos/Landsat/LC08_L1TP_009057_20190903_20190917_01_T1_B6.TIF',\n",
       " '../Datos/Landsat/LC08_L1TP_009057_20190903_20190917_01_T1_B7.TIF',\n",
       " '../Datos/Landsat/LC08_L1TP_009057_20190903_20190917_01_T1_B8.TIF',\n",
       " '../Datos/Landsat/LC08_L1TP_009057_20190903_20190917_01_T1_B9.TIF']"
      ]
     },
     "execution_count": 6,
     "metadata": {},
     "output_type": "execute_result"
    }
   ],
   "source": [
    "# Recuperar archivos de las bandas\n",
    "urls = '../Datos/Landsat/*.TIF'\n",
    "archivos = glob.glob(urls)\n",
    "archivos"
   ]
  },
  {
   "cell_type": "code",
   "execution_count": 7,
   "metadata": {},
   "outputs": [],
   "source": [
    "def read_image(input_image_url):\n",
    "    dataset = gdal.Open(input_image_url)\n",
    "    matriz = dataset.ReadAsArray()\n",
    "    matriz_nan = np.where(matriz == 0, np.nan, matriz)\n",
    "    return matriz, matriz_nan"
   ]
  },
  {
   "cell_type": "code",
   "execution_count": 8,
   "metadata": {},
   "outputs": [],
   "source": [
    "def band_statistics(array, array_name, mat_type='std',verbose = False):\n",
    "    if verbose:\n",
    "        print('Basic Statistics: \\t {}' .format(array_name))\n",
    "    if mat_type =='std':\n",
    "        average = np.mean(array)\n",
    "        minimum = np.min(array)\n",
    "        maximum = np.max(array)\n",
    "        mode = 0\n",
    "        if verbose:\n",
    "            print('Mínimo: {}' .format(minimum))\n",
    "            print('Máximo: {}' .format(maximum))\n",
    "            print('\\nMedia: {}' .format(average))\n",
    "            print('Moda: {}' .format(mode))\n",
    "        return minimum, maximum, average, mode\n",
    "    elif mat_type == 'nan':\n",
    "        average = np.nanmean(array)\n",
    "        minimum = np.nanmin(array)\n",
    "        maximum = np.nanmax(array)\n",
    "        mode = 0\n",
    "        if verbose:\n",
    "            print('Mínimo: {}' .format(minimum))\n",
    "            print('Máximo: {}' .format(maximum))\n",
    "        return minimum, maximum\n",
    "    else:\n",
    "        print('\\nOpción inválida')\n",
    "        return None"
   ]
  },
  {
   "cell_type": "code",
   "execution_count": 9,
   "metadata": {},
   "outputs": [],
   "source": [
    "a1, a2 = read_image(archivos[9])"
   ]
  },
  {
   "cell_type": "code",
   "execution_count": null,
   "metadata": {},
   "outputs": [],
   "source": [
    "print_histograms(archivos[9], title='Banda 8')"
   ]
  },
  {
   "cell_type": "code",
   "execution_count": 10,
   "metadata": {},
   "outputs": [],
   "source": [
    "def print_histograms(input_image_url, title=''):\n",
    "    array, array_nan  = read_image(input_image_url)\n",
    "    #\n",
    "    # Extracción de datos mínimos y máximos\n",
    "    min, max = band_statistics(array=array, array_name='Archivo', mat_type='nan', verbose=False)\n",
    "    min_nan,max_nan = band_statistics(array=array_nan, array_name='Archivo', mat_type='nan', verbose=False)\n",
    "    #\n",
    "    # Generación de histogramas\n",
    "    hist, bin_edges = np.histogram(array, bins = range(int(min), int(max), 500), density=False)\n",
    "    hist_nan, bin_edges_nan = np.histogram(array_nan, bins = range(int(min_nan), int(max_nan), 500), density=False)\n",
    "    #\n",
    "    # Preparación de Figuras\n",
    "    f, (ax1, ax2) = plt.subplots(2, 1, sharex=True)\n",
    "    ax1.set_title('Comparación entre gráficas\\n {}\\n' .format(title))\n",
    "    \n",
    "    ax2.set_xlabel('\\nValor del Píxel')\n",
    "    ax1.set_ylabel('Cantidad de\\n píxeles')\n",
    "    ax2.set_ylabel('Cantidad de\\n píxeles')\n",
    "    \n",
    "    ax1.plot(bin_edges[:-1], hist, linewidth=1)\n",
    "    ax2.plot(bin_edges_nan[:-1], hist_nan, linewidth=1)\n",
    "    plt.show()"
   ]
  },
  {
   "cell_type": "code",
   "execution_count": 90,
   "metadata": {},
   "outputs": [
    {
     "data": {
      "text/plain": [
       "'../Datos/Landsat/LC08_L1TP_009057_20190903_20190917_01_T1_B1.TIF'"
      ]
     },
     "execution_count": 90,
     "metadata": {},
     "output_type": "execute_result"
    }
   ],
   "source": [
    "archivos[0]"
   ]
  },
  {
   "cell_type": "code",
   "execution_count": null,
   "metadata": {},
   "outputs": [],
   "source": [
    "array, array_nan  = read_image(archivos[0])\n",
    "min_nan,max_nan = band_statistics(array=array_nan, array_name='Archivo', mat_type='nan', verbose=False)\n",
    "print(min_nan,max_nan)"
   ]
  },
  {
   "cell_type": "code",
   "execution_count": 6,
   "metadata": {},
   "outputs": [
    {
     "name": "stdout",
     "output_type": "stream",
     "text": [
      "../Datos/Landsat/LC08_L1TP_009057_20190903_20190917_01_T1_B8.TIF\n"
     ]
    }
   ],
   "source": [
    "print(archivos[9])"
   ]
  },
  {
   "cell_type": "code",
   "execution_count": null,
   "metadata": {},
   "outputs": [],
   "source": [
    "print_histograms(archivos[9], os.path.split(archivos[9])[1])"
   ]
  },
  {
   "cell_type": "code",
   "execution_count": null,
   "metadata": {},
   "outputs": [],
   "source": [
    "\"\"\"\n",
    "for i in range(bandNumber):\n",
    "    dataset = gdal.Open(archivos[0])\n",
    "    band = dataset.GetRasterBand(i+1).ReadAsArray(0,0,dataset.RasterXSize, dataset.RasterYSize)\n",
    "    bandMean[i] = np.amin(band, axis=None)\n",
    "\"\"\""
   ]
  },
  {
   "cell_type": "markdown",
   "metadata": {},
   "source": [
    "## Trabajo con archivos Sentinel"
   ]
  },
  {
   "cell_type": "code",
   "execution_count": null,
   "metadata": {},
   "outputs": [],
   "source": [
    "\"\"\"\n",
    "urls = '../Datos/Landsat/*.TIF'\n",
    "archivos = glob.glob(urls)\n",
    "bandNumber = len(archivos)\n",
    "corrMatrix = np.empty((bandNumber, bandNumber))\n",
    "for archivo in archivos:\n",
    "    with ras.open(archivo) as src:\n",
    "        print('{}{}' .format(archivo, np.mean(src.read())))\n",
    "\"\"\""
   ]
  }
 ],
 "metadata": {
  "kernelspec": {
   "display_name": "Python 3",
   "language": "python",
   "name": "python3"
  },
  "language_info": {
   "codemirror_mode": {
    "name": "ipython",
    "version": 3
   },
   "file_extension": ".py",
   "mimetype": "text/x-python",
   "name": "python",
   "nbconvert_exporter": "python",
   "pygments_lexer": "ipython3",
   "version": "3.7.6"
  }
 },
 "nbformat": 4,
 "nbformat_minor": 4
}
